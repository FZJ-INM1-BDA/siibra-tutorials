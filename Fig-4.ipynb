{
 "cells": [
  {
   "cell_type": "markdown",
   "metadata": {},
   "source": [
    "# Comparative analysis of brain organisation in two brain regions\n",
    "\n",
    "In this tutorial, we use `siibra` to analyze multimodal aspects of two different brain regions. We select a region from the Broca region in the inferior frontal gyrus, IFG 44, involved in language prociessing, and a region from the visual system in the occipital cortex, V1.\n",
    "\n",
    "### Load packages\n",
    "\n",
    "We start by importing the siibra package and libraries for visualization."
   ]
  },
  {
   "cell_type": "code",
   "execution_count": null,
   "metadata": {},
   "outputs": [],
   "source": [
    "import siibra\n",
    "assert siibra.__version__ >= \"1.0.1\"\n",
    "import matplotlib.pyplot as plt\n",
    "from nilearn import plotting\n",
    "import pandas as pd\n",
    "import numpy as np\n",
    "import seaborn as sns\n",
    "sns.set_style('dark')"
   ]
  },
  {
   "cell_type": "markdown",
   "metadata": {},
   "source": [
    "### Instantiate parcellation and reference space from the human brain atlas"
   ]
  },
  {
   "cell_type": "code",
   "execution_count": null,
   "metadata": {},
   "outputs": [],
   "source": [
    "jubrain = siibra.parcellations.JULICH_BRAIN_CYTOARCHITECTONIC_ATLAS_V3_0_3\n",
    "pmaps = jubrain.get_map(space='mni152', maptype='statistical')"
   ]
  },
  {
   "cell_type": "markdown",
   "metadata": {},
   "source": [
    "### Instantiate the two regions of interest"
   ]
  },
  {
   "cell_type": "code",
   "execution_count": null,
   "metadata": {},
   "outputs": [],
   "source": [
    "specs = ['ifg 44 left', 'hoc1 left']\n",
    "regions = [jubrain.get_region(spec) for spec in specs]\n",
    "for r in regions:\n",
    "    plotting.plot_glass_brain(\n",
    "        pmaps.fetch(region=r), cmap='viridis', draw_cross=False, colorbar=False, annotate=False, symmetric_cbar=True\n",
    "    )\n",
    "    plt.savefig(f\"{r.key}.png\")"
   ]
  },
  {
   "cell_type": "markdown",
   "metadata": {},
   "source": [
    "### Compare average receptor and cortical cell densities"
   ]
  },
  {
   "cell_type": "code",
   "execution_count": null,
   "metadata": {},
   "outputs": [],
   "source": [
    "receptors = ['M1', 'M2', 'M3', '5-HT1A', '5-HT2', 'D1']  # selection of monogenetic receptors\n",
    "genes=[\n",
    "    siibra.vocabularies.GENE_NAMES.CHRM1,\n",
    "    siibra.vocabularies.GENE_NAMES.CHRM2,\n",
    "    siibra.vocabularies.GENE_NAMES.CHRM3,\n",
    "    siibra.vocabularies.GENE_NAMES.HTR1A,\n",
    "    siibra.vocabularies.GENE_NAMES.HTR2A,\n",
    "    siibra.vocabularies.GENE_NAMES.DRD1\n",
    "]\n",
    "modalities = [\n",
    "    (siibra.features.molecular.ReceptorDensityFingerprint, {}, {\"rot\": 90}),\n",
    "    (siibra.features.cellular.LayerwiseCellDensity, {}, {\"rot\":0}),\n",
    "    (siibra.features.molecular.GeneExpressions, {'gene': genes}, {\"rot\":90})\n",
    "]\n",
    "fig, axs = plt.subplots(len(modalities)+1, len(regions), figsize=(4*len(regions),11), sharey='row')\n",
    "ymax = [1000, 150, None]\n",
    "\n",
    "for i, region in enumerate(regions): \n",
    "    axs[0, i].imshow(plt.imread(f\"{region.key}.png\"))\n",
    "    axs[0, i].set_title(f'{region.name.replace(\"Area \", \"\")}')\n",
    "    axs[0, i].axis('off')\n",
    "    for j, (modality, kwargs, plotargs) in enumerate(modalities):\n",
    "        fts = siibra.features.get(region, modality, **kwargs)\n",
    "        assert len(fts) > 0\n",
    "        if len(fts) > 1:\n",
    "            print(f\"More than one feature found for {modality}, {region.name}\")\n",
    "        f = fts[0]\n",
    "        if modality == siibra.features.molecular.ReceptorDensityFingerprint:\n",
    "            fcopy = f\n",
    "            fcopy._data_cached = f.data.loc[receptors]\n",
    "        f.plot(ax = axs[j+1, i], **plotargs)\n",
    "        if modality == siibra.features.molecular.ReceptorDensityFingerprint:\n",
    "            # add neurotransmitter names to  receptor names in xtick labels\n",
    "            transmitters = [re.sub(r'(^.*\\()|(\\))', '', n) for n in f.neurotransmitters]\n",
    "            axs[j+1, i].set_xticklabels([f\"{r}\\n({n})\" for r, n in zip(f.receptors, transmitters)])\n",
    "        if ymax[j] is not None:\n",
    "            axs[j+1, i].set_ylim(0, ymax[j])\n",
    "        if 'std' in axs[j+1, i].yaxis.get_label_text():\n",
    "            axs[j+1, i].set_ylabel(axs[j+1, i].yaxis.get_label_text().replace('std', 'std\\n'))\n",
    "        axs[j+1, i].set_title(f'{fts[0].modality}')\n",
    "fig.suptitle('')\n",
    "fig.tight_layout()"
   ]
  },
  {
   "cell_type": "code",
   "execution_count": null,
   "metadata": {},
   "outputs": [],
   "source": [
    "fts = siibra.features.get(regions[0], siibra.features.connectivity.StreamlineCounts)\n",
    "conn = fts[0]\n",
    "\n",
    "# aggregate connectivity profiles for first region across subjects\n",
    "D1 = (\n",
    "    pd.concat([c.get_profile(regions[0]).data for c in conn], axis=1)\n",
    "    .agg(['mean', 'std'], axis=1)\n",
    "    .sort_values(by='mean', ascending=False)\n",
    ")\n",
    "\n",
    "# aggregate connectivity profiles for second region across subjects\n",
    "D2 = (\n",
    "    pd.concat([c.get_profile(regions[1]).data for c in conn], axis=1)\n",
    "    .agg(['mean', 'std'], axis=1)\n",
    "    .sort_values(by='mean', ascending=False)\n",
    ")"
   ]
  },
  {
   "cell_type": "code",
   "execution_count": null,
   "metadata": {},
   "outputs": [],
   "source": [
    "# plot both average connectivity profiles to target regions\n",
    "def shorten_name(n):\n",
    "    return n.replace('Area ', '').replace(' (GapMap)', '').replace('left', 'L').replace('right', 'R')\n",
    "    \n",
    "fig, (a1, a2) = plt.subplots(1, 2, sharey=True, figsize=(3*len(regions), 3.5))\n",
    "kwargs = {'kind':'bar', 'width': 0.85, 'logy':True}\n",
    "D1.iloc[:15]['mean'].plot(**kwargs, yerr=D1.iloc[:15]['std'], ax=a1, ylabel=shorten_name(regions[0].name))\n",
    "D2.iloc[:15]['mean'].plot(**kwargs, yerr=D2.iloc[:15]['std'], ax=a2, ylabel=shorten_name(regions[1].name))\n",
    "a1.set_ylabel('Streamline counts')\n",
    "a1.xaxis.set_ticklabels([shorten_name(t.get_text()) for t in a1.xaxis.get_majorticklabels()])\n",
    "a2.xaxis.set_ticklabels([shorten_name(t.get_text()) for t in a2.xaxis.get_majorticklabels()])\n",
    "plt.tight_layout()"
   ]
  },
  {
   "cell_type": "markdown",
   "metadata": {},
   "source": [
    "### Retrieve cortical patches"
   ]
  },
  {
   "cell_type": "code",
   "execution_count": null,
   "metadata": {},
   "outputs": [],
   "source": [
    "layers = siibra.parcellations.get('cortical layers')\n",
    "layermap = layers.get_map(space='bigbrain')\n",
    "patches = {}\n",
    "import numpy as np\n",
    "\n",
    "for r in regions:\n",
    "    # find 1 micron sections intersecting the region\n",
    "    pmap_volume = siibra.volumes.from_nifti(pmaps.fetch(region=r), space='mni152', name=r.name)\n",
    "    sections = siibra.features.get(pmap_volume.get_boundingbox(), siibra.features.cellular.CellbodyStainedSection)\n",
    "    section = sections[len(sections)//2]\n",
    "\n",
    "    # intersect layer IV surface with the selected section\n",
    "    imgplane = siibra.experimental.Plane3D.from_image(section)\n",
    "    hemisphere = 'left' if 'left' in r.name else 'right'\n",
    "    l4layer = layers.get_region(f\"4 {hemisphere}\")\n",
    "    l4_contours = imgplane.intersect_mesh(layermap.fetch(region=l4layer, format='mesh'))\n",
    "    \n",
    "    # score all contour points with the region probabilities to find the most likely one\n",
    "    l4points = siibra.PointCloud(\n",
    "        [p for contour in l4_contours for p in contour], \n",
    "        space='bigbrain'\n",
    "    )\n",
    "    probs = pmap_volume.evaluate_points(l4points)\n",
    "    l4point = l4points[probs.argmax()]\n",
    "    \n",
    "    # find the closest cortical profile to this point\n",
    "    profile = siibra.experimental.CorticalProfileSampler().query(l4point)\n",
    "    \n",
    "    # extract the patch in the image plane showing the projection of this profile\n",
    "    patch_canvas = imgplane.get_enclosing_patch(profile)\n",
    "    i = np.argmin(\n",
    "        np.linalg.norm((patch_canvas.corners.coordinates - profile[0].coordinate), axis=1)\n",
    "    )\n",
    "    if i in [0, 3]:\n",
    "        patch_canvas.flip()\n",
    "    patches[r] = patch_canvas.extract_volume(section, resolution_mm=0.01)"
   ]
  },
  {
   "cell_type": "code",
   "execution_count": null,
   "metadata": {},
   "outputs": [],
   "source": [
    "# display the two extracted patches\n",
    "fig, axs = plt.subplots(1, 2)\n",
    "for ax, patch, region in zip(axs, patches, regions):\n",
    "    \n",
    "    # access the underlying image data\n",
    "    patchimg = patches[patch].fetch()\n",
    "    phys2vox = np.linalg.inv(patchimg.affine)\n",
    "    patchdata = patchimg.get_fdata().squeeze()\n",
    "    \n",
    "    ax.set_title(region.name)\n",
    "\n",
    "    # plot the pure image array\n",
    "    ax.imshow(patchdata, cmap='gray', vmin=0, vmax=2**16)\n",
    "    ax.axis('off')\n",
    "\n",
    "plt.tight_layout()"
   ]
  }
 ],
 "metadata": {
  "kernelspec": {
   "display_name": "Python 3 (ipykernel)",
   "language": "python",
   "name": "python3"
  },
  "language_info": {
   "codemirror_mode": {
    "name": "ipython",
    "version": 3
   },
   "file_extension": ".py",
   "mimetype": "text/x-python",
   "name": "python",
   "nbconvert_exporter": "python",
   "pygments_lexer": "ipython3",
   "version": "3.10.13"
  }
 },
 "nbformat": 4,
 "nbformat_minor": 4
}
