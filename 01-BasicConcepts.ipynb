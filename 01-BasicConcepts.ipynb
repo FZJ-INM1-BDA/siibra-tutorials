{
 "cells": [
  {
   "cell_type": "markdown",
   "metadata": {},
   "source": [
    "# Core concepts\n",
    "\n",
    "## Predefined atlases, parcellations, and reference spaces\n",
    "\n",
    "The `siibra.core` module provides classes for the core atlas concepts. These include \n",
    "\n",
    " - the `Atlas` class as the basic entry point for working with a brain atlas \n",
    " - the `Parcellation` class, defining a particular brain parcellation scheme\n",
    " - the `Space` class, defining a particular reference space\n",
    " \n",
    "The above classes are all derived from the basic `AtlasConcept` class, and represent semantic concepts. When first loading a new siibra version, `siibra` automatically builds a registry with predefined objects for each of these classes. The configuration information is retrieved from a versioned online repository that we maintain with siibra. "
   ]
  },
  {
   "cell_type": "code",
   "execution_count": null,
   "metadata": {},
   "outputs": [],
   "source": [
    "!pip install siibra==0.4a29\n"
   ]
  },
  {
   "cell_type": "code",
   "execution_count": null,
   "metadata": {},
   "outputs": [],
   "source": [
    "import siibra\n",
    "assert siibra.__version__ >= \"0.4a27\"\n",
    "import os\n",
    "import matplotlib\n",
    "%matplotlib notebook"
   ]
  },
  {
   "cell_type": "markdown",
   "metadata": {},
   "source": [
    "To performing this bootstrap process, an internet connection is required to import siibra the first time. However, the configuration information is then stored in a local cache folder on your system, so after the first time you will be able to import your `siibra` package without being online."
   ]
  },
  {
   "cell_type": "markdown",
   "metadata": {},
   "source": [
    "## Accessing predefined atlases\n",
    "\n",
    "Siibra provides the preconfigured instances of the core concepts via the \"instance tables\" `siibra.atlases`, `siibra.parcellations`, and `siibra.spaces`. Elements in each table can be accessed in different ways:\n",
    "\n",
    " - iterate over all instances\n",
    " - by fuzzy matching of keyword or name with the index operator\n",
    " - by tab-completion\n",
    "\n",
    "Let's try this out for the `siibra.atlases` registry."
   ]
  },
  {
   "cell_type": "code",
   "execution_count": null,
   "metadata": {},
   "outputs": [],
   "source": [
    "# Which atlases are provided? We can iterate over objects in the registry.\n",
    "for atlas in siibra.atlases:\n",
    "    print(repr(atlas), \"-\", atlas.name)"
   ]
  },
  {
   "cell_type": "code",
   "execution_count": null,
   "metadata": {},
   "outputs": [],
   "source": [
    "# Access the first element in the registry\n",
    "siibra.atlases[0]"
   ]
  },
  {
   "cell_type": "code",
   "execution_count": null,
   "metadata": {},
   "outputs": [],
   "source": [
    "# Access elements by their name as attributes\n",
    "# with autocompletion by most Python interpreters\n",
    "siibra.atlases.MULTILEVEL_HUMAN_ATLAS"
   ]
  },
  {
   "cell_type": "markdown",
   "metadata": {},
   "source": [
    "Note how both alternatives provide the same object. The easiest and recommended way to access items from a registry however, is to use keywords for accessing elements. `siibra` will try to figure out the matching item, or inform you if you need to be more precise."
   ]
  },
  {
   "cell_type": "code",
   "execution_count": null,
   "metadata": {},
   "outputs": [],
   "source": [
    "# The easiest way: Using string matching of keywords\n",
    "siibra.atlases['human']"
   ]
  },
  {
   "cell_type": "markdown",
   "metadata": {},
   "source": [
    "## Accessing parcellations and regions\n",
    "\n",
    "While the registry `siibra.parcellations` gives access to all available parcellations, the recommended way is to access parcellations via an atlas object. Each atlas object provices a filtered registry of parcellations."
   ]
  },
  {
   "cell_type": "code",
   "execution_count": null,
   "metadata": {},
   "outputs": [],
   "source": [
    "atlas = siibra.atlases['human']\n",
    "list(atlas.parcellations)"
   ]
  },
  {
   "cell_type": "markdown",
   "metadata": {},
   "source": [
    "We can get access to any parcellation object using `atlas.get_parcellation`, or of course by directly using the registry:"
   ]
  },
  {
   "cell_type": "code",
   "execution_count": null,
   "metadata": {},
   "outputs": [],
   "source": [
    "julichbrain = atlas.get_parcellation('julich')  # will return the latest version per default"
   ]
  },
  {
   "cell_type": "code",
   "execution_count": null,
   "metadata": {},
   "outputs": [],
   "source": [
    "# let's look at some metadata\n",
    "print(f\"Name:     {julichbrain.name}\")\n",
    "print(f\"Id:       {julichbrain.id}\")\n",
    "print(f\"Modality: {julichbrain.modality}\\n\")\n",
    "print(f\"{julichbrain.description}\\n\")\n",
    "for p in julichbrain.publications:\n",
    "    print(p['citation'])"
   ]
  },
  {
   "cell_type": "markdown",
   "metadata": {},
   "source": [
    "The resulting parcellation is a semantic object. It does not itself represent a map, but rather the defintion of the parcellation. Thus it provides\n",
    "\n",
    "- the region hierarchy\n",
    "- functions to find and access regions\n",
    "- functions to access different forms of maps\n",
    "\n",
    "Let's search a region."
   ]
  },
  {
   "cell_type": "code",
   "execution_count": null,
   "metadata": {},
   "outputs": [],
   "source": [
    "# search regions known by the parcellation\n",
    "for region in julichbrain.find_regions('amygdala'):\n",
    "    print(region.name)"
   ]
  },
  {
   "cell_type": "markdown",
   "metadata": {},
   "source": [
    "As you see, areas often appear three times: Julich-Brain defines them separately for the left and right hemisphere, and additionally defines a common parent region. In fact the parent object represents the corresponding subtree. We can more easily access individual regions by using `get_region` instead of `find_regions`. This method assumes the region specification is unique, and returns a single region object or fails."
   ]
  },
  {
   "cell_type": "code",
   "execution_count": null,
   "metadata": {},
   "outputs": [],
   "source": [
    "# the whole amygdala subtree\n",
    "julichbrain.get_region('amygdala')"
   ]
  },
  {
   "cell_type": "markdown",
   "metadata": {},
   "source": [
    "You may output the subtree anchored at a given region, if any, using `Region.tree2str()`. This is useful to inspect a region object."
   ]
  },
  {
   "cell_type": "code",
   "execution_count": null,
   "metadata": {},
   "outputs": [],
   "source": [
    "amygdala = julichbrain.get_region('amygdala')\n",
    "print(amygdala.tree2str())"
   ]
  },
  {
   "cell_type": "code",
   "execution_count": null,
   "metadata": {},
   "outputs": [],
   "source": [
    "# only VTM, a small subtree\n",
    "vtm = julichbrain.get_region('VTM')\n",
    "print(vtm.tree2str())"
   ]
  },
  {
   "cell_type": "code",
   "execution_count": null,
   "metadata": {},
   "outputs": [],
   "source": [
    "# the exact left VTM is not a tree, it is a leaf of the region hierarchy\n",
    "vtm_l = julichbrain.get_region('vtm left')\n",
    "print(vtm_l.tree2str())"
   ]
  },
  {
   "cell_type": "markdown",
   "metadata": {},
   "source": [
    "To search for regions, we need not explicitly fetch the parcellation object. The atlas object provides a similar function, however, it will return matching regions from all parcellations it knows."
   ]
  },
  {
   "cell_type": "code",
   "execution_count": null,
   "metadata": {},
   "outputs": [],
   "source": [
    "# search all regions known by the atlas\n",
    "for r in atlas.find_regions('amygdala'):\n",
    "    print(f\"{r.name:30.30} {r.parcellation}\")"
   ]
  },
  {
   "cell_type": "markdown",
   "metadata": {},
   "source": [
    "## Accessing maps\n",
    "\n",
    "Different from the above semantic objects - atlases, spaces, parcellations, regions - a parcellation map or region map is a spatial object. In some atlases, parcellations are defined in different spaces, so `siibra` expects you to specify the space when accessing the map of a parcellation. Let's access the maximum probability map of Julich-Brain in the MNI152 space to see how that works.\n",
    "\n",
    "Note that when running this for the first time, `siibra` will download the data from EBRAINS, which takes a bit. the parcellation map is then stored in a cache directory on your computer, so future calls are fast."
   ]
  },
  {
   "cell_type": "code",
   "execution_count": null,
   "metadata": {},
   "outputs": [],
   "source": [
    "mpm = julichbrain.get_map(space=siibra.spaces.MNI_152_ICBM_2009C_NONLINEAR_ASYMMETRIC)\n",
    "mpm"
   ]
  },
  {
   "cell_type": "markdown",
   "metadata": {},
   "source": [
    "### Labelled parcellation maps\n",
    "\n",
    "The returned map still does not contain the actual image data, only the information about the image resources for each brain region. This is because `siibra` uses a lazy strategy for loading data. To access the actual image data, we call the `fetch()` method. We use the wonderful `nilearn` library for plotting the map. It plots in the MNI152 space by default, so as long as we work in this space plotting is simple enough.\n",
    "\n",
    "Some parcellations (and other 3D volumes) are split into multiple fragments represented in separate image volumes. For Julich-Brain 2.9, each hemisphere is in a different fragment. We can fetch individual fragments, but if no fragment is specified, siibra will merge the available ones into a single volume:"
   ]
  },
  {
   "cell_type": "code",
   "execution_count": null,
   "metadata": {},
   "outputs": [],
   "source": [
    "from nilearn import plotting\n",
    "plotting.plot_stat_map(mpm.fetch(), title=f\"{mpm.parcellation.name} (merged fragments)\")"
   ]
  },
  {
   "cell_type": "markdown",
   "metadata": {},
   "source": [
    "To fetch only the left hemisphere, we simply specifiy the fragment in the `fetch()` call:"
   ]
  },
  {
   "cell_type": "code",
   "execution_count": null,
   "metadata": {},
   "outputs": [],
   "source": [
    "plotting.plot_stat_map(mpm.fetch(fragment='left'), title=mpm.parcellation.name+\" (left)\")"
   ]
  },
  {
   "cell_type": "markdown",
   "metadata": {},
   "source": [
    "### Probabilistic maps\n",
    "\n",
    "Julich-Brain, like some other parcellations, is a probabilistic parcellation. The labelled volumes in the maximum probability map (mpm) above are just a simplified representation, displaying for each voxel the brain region of highest probability. We can access the much richer information of the probability maps, which provide statistical information in the reference space for each parcticular region.\n",
    "\n",
    "We received the labelled volumes above because `siibra` uses labelled volumes as the default map type. To retrieve probability maps, we explicitly select `siibra.MapType.STATISTICAL`."
   ]
  },
  {
   "cell_type": "code",
   "execution_count": null,
   "metadata": {},
   "outputs": [],
   "source": [
    "pmaps = julichbrain.get_map(\n",
    "    space=siibra.spaces.MNI_152_ICBM_2009C_NONLINEAR_ASYMMETRIC,\n",
    "    maptype=siibra.MapType.STATISTICAL\n",
    ")"
   ]
  },
  {
   "cell_type": "code",
   "execution_count": null,
   "metadata": {},
   "outputs": [],
   "source": [
    "pmaps.fetch_iter()"
   ]
  },
  {
   "cell_type": "markdown",
   "metadata": {},
   "source": [
    "We can iterate over all >300 probability maps using the `fetch_iter()` method, or fetch individual probability maps by their index, region name, or using a region object. We recommend avoiding to deal with label and volume indices - it is one of `siibra`'s strengths to hide this complexity from you."
   ]
  },
  {
   "cell_type": "code",
   "execution_count": null,
   "metadata": {},
   "outputs": [],
   "source": [
    "pmap = pmaps.fetch(region='hoc5 right')\n",
    "plotting.plot_stat_map(pmap, title=f'hOc5 right of {pmaps.parcellation.name}')"
   ]
  },
  {
   "cell_type": "markdown",
   "metadata": {},
   "source": [
    "Of course we can easily access the indices of this region's map if we like to. Since the region is a complete volume in the statistical map, it has no label or fragment associated in the probability maps:"
   ]
  },
  {
   "cell_type": "code",
   "execution_count": null,
   "metadata": {},
   "outputs": [],
   "source": [
    "index = pmaps.get_index(region='hoc5 right')\n",
    "index"
   ]
  },
  {
   "cell_type": "markdown",
   "metadata": {},
   "source": [
    "Note that this is different if we request the index of the same region in the maximum probability maps! Since these are a labelled parcellation and not a statistical one, the same region is there represented by a label index in one fragment of the image volume:"
   ]
  },
  {
   "cell_type": "code",
   "execution_count": null,
   "metadata": {},
   "outputs": [],
   "source": [
    "index = mpm.get_index(region='hoc5 right')\n",
    "index"
   ]
  },
  {
   "cell_type": "markdown",
   "metadata": {},
   "source": [
    "As mentioned before, while not recommended, we can also use this index to fetch from the map instead of using a region or region name:"
   ]
  },
  {
   "cell_type": "code",
   "execution_count": null,
   "metadata": {},
   "outputs": [],
   "source": [
    "index = pmaps.get_index(region='hoc5 right')\n",
    "pmap = pmaps.fetch(index=index)\n",
    "plotting.plot_stat_map(pmap, title=f'hOc5 right of {pmaps.parcellation.name}')"
   ]
  },
  {
   "cell_type": "markdown",
   "metadata": {},
   "source": [
    "If we fetch a particular region or region index from the maximum probability map, `siibra` will construct a binary mask of the region from the labelled volume. Note the corresponding location, but significant difference in shape!"
   ]
  },
  {
   "cell_type": "code",
   "execution_count": null,
   "metadata": {},
   "outputs": [],
   "source": [
    "mask = mpm.fetch(region='hoc5 right')\n",
    "plotting.plot_roi(mask, title=f'hOc5 right of {pmaps.parcellation.name}')"
   ]
  },
  {
   "cell_type": "markdown",
   "metadata": {},
   "source": [
    "## Extracting volumes of interest from high-resolution data\n",
    "\n",
    "Accessing image volumes is at the heart of `siibra`, and also works for high resolution images such as the BigBrain model. The BigBrain can be found and accessed as the template of the BigBrain reference space. However, fetching BigBrain at full resolution is not a good idea - it is a 1TByte dataset. `siibra` will therefore by default fetch a downscaled version:"
   ]
  },
  {
   "cell_type": "code",
   "execution_count": null,
   "metadata": {},
   "outputs": [],
   "source": [
    "bigbrain = siibra.spaces.BIG_BRAIN_HISTOLOGY.get_template()\n",
    "bigbrain_img = bigbrain.fetch()\n",
    "plotting.plot_img(bigbrain_img, cmap='gray')"
   ]
  },
  {
   "cell_type": "markdown",
   "metadata": {},
   "source": [
    "If we request the full resolution, `siibra` will complain and choose a larger but feasible resolution."
   ]
  },
  {
   "cell_type": "code",
   "execution_count": null,
   "metadata": {},
   "outputs": [],
   "source": [
    "bigbrain.fetch(resolution_mm=0.02)"
   ]
  },
  {
   "cell_type": "markdown",
   "metadata": {},
   "source": [
    "To work with full resolution data, we typically fetch volumes of interest only (VOIs). These can be defined in different ways - by specifying corner points, or extracting the bounding box of a region."
   ]
  },
  {
   "cell_type": "code",
   "execution_count": null,
   "metadata": {},
   "outputs": [],
   "source": [
    "voi = siibra.locations.BoundingBox(\n",
    "    (-3.979, -61.256, 3.906),\n",
    "    (5.863, -55.356, -2.487),\n",
    "    space=siibra.spaces.BIG_BRAIN_HISTOLOGY\n",
    ")"
   ]
  },
  {
   "cell_type": "markdown",
   "metadata": {},
   "source": [
    "Now we can extract a chunk from the BigBrain template a full resolution of 20 micron using this volume of interest."
   ]
  },
  {
   "cell_type": "code",
   "execution_count": null,
   "metadata": {},
   "outputs": [],
   "source": [
    "bigbrainchunk = bigbrain.fetch(resolution_mm=0.02, voi=voi)\n",
    "plotting.view_img(bigbrainchunk, bg_img=None, cmap='gray')"
   ]
  },
  {
   "cell_type": "markdown",
   "metadata": {},
   "source": [
    "The resulting image chunk sits properly in its reference space, so we can also plot it in anatomical context of the low-resolution whole brain image that we fetched already above."
   ]
  },
  {
   "cell_type": "code",
   "execution_count": null,
   "metadata": {},
   "outputs": [],
   "source": [
    "plotting.plot_roi(bigbrainchunk, bg_img=bigbrain_img)"
   ]
  },
  {
   "cell_type": "markdown",
   "metadata": {},
   "source": [
    "We can apply this volume of interest to extract chunks from other objects in the same space, like parcellation maps. Here we use the coritcal layer maps of BigBrain. We can use the LabelledParcellation object for the cortical layer maps that we requested further above, but no call its `fetch()` method again with a different resolution and the volume of interest specification."
   ]
  },
  {
   "cell_type": "code",
   "execution_count": null,
   "metadata": {},
   "outputs": [],
   "source": [
    "layermap = siibra.parcellations.get('cortical layers').get_map(space='bigbrain')\n",
    "mask = layermap.fetch(resolution_mm=0.16,voi=voi)\n",
    "plotting.view_img(mask, bg_img=bigbrainchunk, opacity=.1, symmetric_cmap=False)"
   ]
  },
  {
   "cell_type": "markdown",
   "metadata": {},
   "source": [
    "As mentioned above, we can easily define such volumes of interest by requesting the bounding box of a region object in a desired space. While brain regions are not always mapped in the desired space, siibra will automatically warp the locations acoordingly for you. Here we request a bounding box for area 44 left as defined in Julich-Brain. `siibra` realizes that there is no map for this region in BigBrain yet, so it uses the map in MNI space to compute the bounding box, and then warps it to BigBrain:"
   ]
  },
  {
   "cell_type": "code",
   "execution_count": null,
   "metadata": {},
   "outputs": [],
   "source": [
    "area44l = julichbrain.get_region('44 left')\n",
    "voi = area44l.get_bounding_box(space=siibra.spaces.BIG_BRAIN_HISTOLOGY)"
   ]
  },
  {
   "cell_type": "markdown",
   "metadata": {},
   "source": [
    "We will not fetch data now, but we can compute the volume of the bounding box:"
   ]
  },
  {
   "cell_type": "code",
   "execution_count": null,
   "metadata": {},
   "outputs": [],
   "source": [
    "voi.volume"
   ]
  }
 ],
 "metadata": {
  "kernelspec": {
   "display_name": "Python 3 (ipykernel)",
   "language": "python",
   "name": "python3"
  },
  "language_info": {
   "codemirror_mode": {
    "name": "ipython",
    "version": 3
   },
   "file_extension": ".py",
   "mimetype": "text/x-python",
   "name": "python",
   "nbconvert_exporter": "python",
   "pygments_lexer": "ipython3",
   "version": "3.10.9"
  },
  "vscode": {
   "interpreter": {
    "hash": "c6134497cd5410b1b275ebc88f99d14855849379b696eb9e04cff5dd9aa5e77a"
   }
  }
 },
 "nbformat": 4,
 "nbformat_minor": 4
}
