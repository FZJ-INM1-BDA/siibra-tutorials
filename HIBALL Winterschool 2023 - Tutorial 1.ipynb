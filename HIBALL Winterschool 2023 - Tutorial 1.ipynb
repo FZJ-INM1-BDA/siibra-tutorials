{
 "cells": [
  {
   "cell_type": "markdown",
   "id": "c0ef036c",
   "metadata": {},
   "source": [
    "# Part I: Accessing reference spaces, parcellations and regions\n",
    "\n",
    "<div class=\"alert alert-block alert-success\">\n",
    "    Goal: Understand how to find preconfigured parcellations and brain regions\n",
    "</div>\n",
    "\n",
    "## Instance tables of key concepts\n",
    "\n",
    "`siibra` is structured around the key concepts atlas, reference space, parcellation and parcellation region. Each of these concepts has a specific type. `siibra` comes with preconfigured instances of these concepts, which can be easily accessed via *instance tables*. When you load siibra for the first time, it pulls this preconfiguration information from our online repository and caches it on your computer. Therefore, `siibra` will be a bit slower when you use it for the first time (or after a version upgrade).\n",
    "\n",
    "Here is an overview of the key concepts:\n",
    "\n",
    "| Concept | siibra type | instance table | description |\n",
    "| :-- | :-- | :-- | :-- |\n",
    "| Atlases | Atlas | `siibra.atlases` | A collection of related reference spaces and parcellations, typically per species |\n",
    "| Reference spaces | Space | `siibra.spaces` | 3D coordinate systems of the brain |\n",
    "| Parcellations | Parcellation | `siibra.parcellations` | Different brain parcellations schemes with their region hierarchies |\n",
    "| regions | Region | - | Structures defined within a parcellation, each representing a subtree of a parcellation's hierarchy| \n",
    "\n",
    "**Note:** These concepts are just semantic objects - they mostly give names and relationships to atlas concepts. We will deal with parcellation maps in the next notebook"
   ]
  },
  {
   "cell_type": "code",
   "execution_count": null,
   "id": "818677ac",
   "metadata": {},
   "outputs": [],
   "source": [
    "!pip install siibra==0.4a32"
   ]
  },
  {
   "cell_type": "code",
   "execution_count": null,
   "id": "fa1f0fb5",
   "metadata": {},
   "outputs": [],
   "source": [
    "import siibra"
   ]
  },
  {
   "cell_type": "markdown",
   "id": "7ae7f54f",
   "metadata": {},
   "source": [
    "## Select parcellations from their instance table\n",
    "\n",
    "The instance table for parcellations is `siibra.parcellations`. To get an overview, we can simply print its elements."
   ]
  },
  {
   "cell_type": "code",
   "execution_count": null,
   "id": "561a8e45",
   "metadata": {},
   "outputs": [],
   "source": [
    "siibra.parcellations"
   ]
  },
  {
   "cell_type": "code",
   "execution_count": null,
   "id": "10d69ab8",
   "metadata": {},
   "outputs": [],
   "source": [
    "print(siibra.parcellations)"
   ]
  },
  {
   "cell_type": "markdown",
   "id": "fe68fe1e",
   "metadata": {},
   "source": [
    "To actually access an element from an instance table, there are several options:\n",
    "\n",
    " - by tab-completion on an interactive Python shell. This is very convenient, since it allows you to browse while typing.\n",
    " - by fuzzy keyword matching via the get() function\n",
    " - By using the index operator `[]` with keywords or numbers"
   ]
  },
  {
   "cell_type": "code",
   "execution_count": null,
   "id": "be89a6a8",
   "metadata": {},
   "outputs": [],
   "source": [
    "siibra.parcellations.JULICH_BRAIN_PROBABILISTIC_CYTOARCHITECTONIC_MAPS_V2_9"
   ]
  },
  {
   "cell_type": "code",
   "execution_count": null,
   "id": "aacb5849",
   "metadata": {},
   "outputs": [],
   "source": [
    "siibra.parcellations.get('long bundles')"
   ]
  },
  {
   "cell_type": "code",
   "execution_count": null,
   "id": "9a9473a0",
   "metadata": {},
   "outputs": [],
   "source": [
    "# this is equivalent to the above\n",
    "siibra.parcellations['long bundles']"
   ]
  },
  {
   "cell_type": "markdown",
   "id": "27ffbc01",
   "metadata": {},
   "source": [
    "## Browse predefined reference spaces\n",
    "\n",
    "<div class=\"alert alert-block alert-warning\">\n",
    "Your turn: Access the MNI 152 ICBM 2009c nonl asymmetric space.\n",
    "</div>"
   ]
  },
  {
   "cell_type": "code",
   "execution_count": null,
   "id": "bc91d3e3",
   "metadata": {},
   "outputs": [],
   "source": []
  },
  {
   "cell_type": "markdown",
   "id": "63d49a1e",
   "metadata": {},
   "source": [
    "## Properties of parcellation objects\n",
    "\n",
    "The parcellations contain some metadata, such as name, description and related publication:"
   ]
  },
  {
   "cell_type": "code",
   "execution_count": null,
   "id": "6e2bdf9f",
   "metadata": {},
   "outputs": [],
   "source": [
    "julich_brain = siibra.parcellations.get('julich 2.9')\n",
    "print(julich_brain.name)"
   ]
  },
  {
   "cell_type": "code",
   "execution_count": null,
   "id": "e8246051",
   "metadata": {},
   "outputs": [],
   "source": [
    "print(julich_brain.description)\n",
    "\n",
    "for p in julich_brain.publications:\n",
    "    print(\"\\n\" + p['citation'])"
   ]
  },
  {
   "cell_type": "markdown",
   "id": "d83e3793",
   "metadata": {},
   "source": [
    "## Brain regions\n",
    "\n",
    "Providing all brain regions through instance tables would not be helpful, since there are thousands of them. Regions are organized into hierarchical trees attached to a parcellation.  A parcellation object in siibra is actually a special type of region, namely the top node of a region tree with some additional metadata. \n",
    "\n",
    "Other regions may be the root of a more fine-grained subtree, or leafs without children.\n",
    "\n",
    "We can print the subtree of each region object using the `Region.tree2str` function."
   ]
  },
  {
   "cell_type": "code",
   "execution_count": null,
   "id": "8e567b5a",
   "metadata": {
    "scrolled": true
   },
   "outputs": [],
   "source": [
    "print(julich_brain.tree2str())"
   ]
  },
  {
   "cell_type": "markdown",
   "id": "cd11abdd",
   "metadata": {},
   "source": [
    "To access individual brain regions, we typically pass over a unique part of their name to the parcellation (or any parent region):"
   ]
  },
  {
   "cell_type": "code",
   "execution_count": null,
   "id": "f4c88c84",
   "metadata": {},
   "outputs": [],
   "source": [
    "amygdala = julich_brain.get_region('amygdala')\n",
    "print(amygdala.tree2str())"
   ]
  },
  {
   "cell_type": "markdown",
   "id": "e517d4c3",
   "metadata": {},
   "source": [
    "Regions have several functions. Just as an example, we can request to compute its centroids in a given reference space, and plot them using nilearn's plotting library."
   ]
  },
  {
   "cell_type": "code",
   "execution_count": null,
   "id": "8e0c5ed2",
   "metadata": {},
   "outputs": [],
   "source": [
    "centroids = amygdala.compute_centroids(\n",
    "    space=siibra.spaces.MNI_152_ICBM_2009C_NONLINEAR_ASYMMETRIC\n",
    ")"
   ]
  },
  {
   "cell_type": "code",
   "execution_count": null,
   "id": "e85c76ff",
   "metadata": {},
   "outputs": [],
   "source": [
    "from nilearn import plotting\n",
    "plotting.view_markers(centroids.as_list(), marker_color='r')"
   ]
  }
 ],
 "metadata": {
  "kernelspec": {
   "display_name": "Python 3 (ipykernel)",
   "language": "python",
   "name": "python3"
  },
  "language_info": {
   "codemirror_mode": {
    "name": "ipython",
    "version": 3
   },
   "file_extension": ".py",
   "mimetype": "text/x-python",
   "name": "python",
   "nbconvert_exporter": "python",
   "pygments_lexer": "ipython3",
   "version": "3.10.9"
  }
 },
 "nbformat": 4,
 "nbformat_minor": 5
}
