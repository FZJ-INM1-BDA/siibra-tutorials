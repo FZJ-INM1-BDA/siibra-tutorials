{
 "cells": [
  {
   "cell_type": "markdown",
   "metadata": {},
   "source": [
    "# Using siibra-python to characterize motor and language areas in the Julich-Brain cytoarchitectonic atlas \n",
    "\n",
    "\n",
    "### 1. Import the package \n",
    "\n",
    "We start by importing the `siibra` package."
   ]
  },
  {
   "cell_type": "code",
   "execution_count": null,
   "metadata": {},
   "outputs": [],
   "source": [
    "import siibra\n",
    "from packaging.version import Version\n",
    "assert Version(siibra.__version__) >= Version('1.0.1-alpha.2')\n",
    "\n",
    "import matplotlib.pyplot as plt\n",
    "%matplotlib notebook"
   ]
  },
  {
   "cell_type": "markdown",
   "metadata": {},
   "source": [
    "### 2. Select two regions from Julich-Brain"
   ]
  },
  {
   "cell_type": "code",
   "execution_count": null,
   "metadata": {},
   "outputs": [],
   "source": [
    "# access Julich-Brain in version 2.9\n",
    "julichbrain = siibra.parcellations.get('julich')\n",
    "\n",
    "# Get two region objects from Julich-Brain\n",
    "regions = [\n",
    "    julichbrain.get_region('4p left'),\n",
    "    julichbrain.get_region('44 left')\n",
    "]"
   ]
  },
  {
   "cell_type": "code",
   "execution_count": null,
   "metadata": {},
   "outputs": [],
   "source": [
    "julich_mni_pmaps = julichbrain.get_map(\n",
    "    space=siibra.spaces.MNI_152_ICBM_2009C_NONLINEAR_ASYMMETRIC, \n",
    "    maptype=siibra.MapType.STATISTICAL\n",
    ")"
   ]
  },
  {
   "cell_type": "code",
   "execution_count": null,
   "metadata": {},
   "outputs": [],
   "source": [
    "# fetch and display their probability maps\n",
    "from nilearn import plotting\n",
    "for region in regions:\n",
    "    pmap = julich_mni_pmaps.fetch(region)\n",
    "    plotting.plot_stat_map(pmap, title=region.name)"
   ]
  },
  {
   "cell_type": "markdown",
   "metadata": {},
   "source": [
    "### 4. Access GABAB receptor distributions"
   ]
  },
  {
   "cell_type": "code",
   "execution_count": null,
   "metadata": {},
   "outputs": [],
   "source": [
    "receptor = 'GABAB'"
   ]
  },
  {
   "cell_type": "code",
   "execution_count": null,
   "metadata": {},
   "outputs": [],
   "source": [
    "fig, axs = plt.subplots(1, len(regions), figsize=(8, 3), sharex=True, sharey=True)\n",
    "\n",
    "for i, region in enumerate(regions):\n",
    "    \n",
    "    # retrieve receptor profiles\n",
    "    features = siibra.features.get(\n",
    "        region, siibra.features.molecular.ReceptorDensityProfile\n",
    "    )\n",
    "    \n",
    "    # get one with GABAB type and plot it\n",
    "    features[0].get_element('GABAB').plot(ax=axs[i])\n",
    "\n",
    "plt.tight_layout()"
   ]
  },
  {
   "cell_type": "markdown",
   "metadata": {},
   "source": [
    "### 5. Run a differential gene expression analysis for the two regions"
   ]
  },
  {
   "cell_type": "code",
   "execution_count": null,
   "metadata": {},
   "outputs": [],
   "source": [
    "# setup and run the analysis\n",
    "genes = ['GABBR1', 'GABBR2']\n",
    "\n",
    "fig, axs = plt.subplots(1, len(regions), figsize=(8, 3), sharex=True, sharey=True)\n",
    "\n",
    "geneexps = {}\n",
    "for i, region in enumerate(regions):\n",
    "    # retrieve receptor profiles\n",
    "    geneexps[region] = siibra.features.get(region, \"GeneExpression\", gene=genes)[0]\n",
    "    # get one with GABAB type and plot it\n",
    "    geneexps[region].plot(ax=axs[i])\n",
    "\n",
    "plt.tight_layout()"
   ]
  },
  {
   "cell_type": "code",
   "execution_count": null,
   "metadata": {},
   "outputs": [],
   "source": [
    "# plot the extracted sample positions of the microarray data\n",
    "from nilearn import plotting\n",
    "for region in regions:\n",
    "    pmap = region.get_regional_map(\n",
    "        siibra.spaces.MNI_152_ICBM_2009C_NONLINEAR_ASYMMETRIC,\n",
    "        siibra.MapType.STATISTICAL\n",
    "    )\n",
    "    display = plotting.plot_glass_brain(pmap.fetch(), cmap=\"viridis\", title=region.name)\n",
    "    display.add_markers(geneexps[region].anchor.location.coordinates, marker_size=5)"
   ]
  },
  {
   "cell_type": "code",
   "execution_count": null,
   "metadata": {},
   "outputs": [],
   "source": []
  }
 ],
 "metadata": {
  "kernelspec": {
   "display_name": "Python 3 (ipykernel)",
   "language": "python",
   "name": "python3"
  },
  "language_info": {
   "codemirror_mode": {
    "name": "ipython",
    "version": 3
   },
   "file_extension": ".py",
   "mimetype": "text/x-python",
   "name": "python",
   "nbconvert_exporter": "python",
   "pygments_lexer": "ipython3",
   "version": "3.9.15"
  },
  "vscode": {
   "interpreter": {
    "hash": "c6134497cd5410b1b275ebc88f99d14855849379b696eb9e04cff5dd9aa5e77a"
   }
  }
 },
 "nbformat": 4,
 "nbformat_minor": 4
}
