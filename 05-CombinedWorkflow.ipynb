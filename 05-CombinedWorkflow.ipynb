{
 "cells": [
  {
   "cell_type": "markdown",
   "metadata": {},
   "source": [
    "# Using siibra-python to characterize motor and language areas in the Julich-Brain cytoarchitectonic atlas \n",
    "\n",
    "\n",
    "### 1. Import the package \n",
    "\n",
    "We start by importing the `siibra` package."
   ]
  },
  {
   "cell_type": "code",
   "execution_count": null,
   "metadata": {},
   "outputs": [],
   "source": [
    "!pip install siibra siibra-jugex matplotlib nilearn"
   ]
  },
  {
   "cell_type": "code",
   "execution_count": null,
   "metadata": {},
   "outputs": [],
   "source": [
    "import siibra\n",
    "assert siibra.__version__ >= \"0.3a17\""
   ]
  },
  {
   "cell_type": "markdown",
   "metadata": {},
   "source": [
    "### 2. Select two regions from Julich-Brain"
   ]
  },
  {
   "cell_type": "code",
   "execution_count": null,
   "metadata": {},
   "outputs": [],
   "source": [
    "# access the human atlas\n",
    "atlas = siibra.atlases.MULTILEVEL_HUMAN_ATLAS\n",
    "\n",
    "# access Julich-Brain in version 2.9 \n",
    "jubrain = atlas.get_parcellation('julich 2.9')\n",
    "\n",
    "# Get two region objects from Julich-Brain\n",
    "regions = [\n",
    "    jubrain.decode_region(spec) \n",
    "    for spec in ['4p left', '44 left']\n",
    "]"
   ]
  },
  {
   "cell_type": "code",
   "execution_count": null,
   "metadata": {},
   "outputs": [],
   "source": [
    "# fetch and display their probability maps\n",
    "from nilearn import plotting\n",
    "for region in regions:\n",
    "    pmap = region.get_regional_map(space='mni152', maptype='continuous')\n",
    "    plotting.plot_stat_map(pmap.fetch(), title=region.name)"
   ]
  },
  {
   "cell_type": "markdown",
   "metadata": {},
   "source": [
    "### 3. Authenticate to EBRAINS for data retrieval\n",
    "\n",
    "For accessing features, we have to authenticate to the EBRAINS knowledge graph with a token. By registering to EBRAINS on https://ebrains.eu/register, we can just call `siibra.fetch_ebrains_token()` which will prompt for usernames and password. In this tutorial, we choose a different way and pass a given access token directly:"
   ]
  },
  {
   "cell_type": "code",
   "execution_count": null,
   "metadata": {},
   "outputs": [],
   "source": [
    "siibra.set_ebrains_token(input('Your token:'))"
   ]
  },
  {
   "cell_type": "markdown",
   "metadata": {},
   "source": [
    "### 4. Access GABAB receptor distributions"
   ]
  },
  {
   "cell_type": "code",
   "execution_count": null,
   "metadata": {},
   "outputs": [],
   "source": [
    "receptor = 'GABAB'"
   ]
  },
  {
   "cell_type": "code",
   "execution_count": null,
   "metadata": {},
   "outputs": [],
   "source": [
    "import matplotlib.pyplot as plt\n",
    "%matplotlib notebook\n",
    "\n",
    "fig, axs = plt.subplots(2, len(regions), sharex='row', sharey='row')\n",
    "\n",
    "for i, region in enumerate(regions):\n",
    "    \n",
    "    # retrieve the receptor feature\n",
    "    feature = siibra.get_features(\n",
    "        region, siibra.modalities.ReceptorDistribution\n",
    "    )[-1]\n",
    "    \n",
    "    # plot sample autoradiograph for selected receptor\n",
    "    axs[0, i].imshow(feature.autoradiographs[receptor])\n",
    "    axs[0, i].axis('off')\n",
    "    axs[0, i].set_title(region.name)\n",
    "    \n",
    "    # Plot the cortical profile of selected receptor\n",
    "    axs[1, i].plot(\n",
    "        feature.profiles[receptor].densities.values()\n",
    "    )\n",
    "    axs[1, i].set_xlabel('Cortical Depth')\n",
    "    axs[1, i].grid(True)\n",
    "    if i==0:\n",
    "        axs[1, i].set_ylabel(f'{receptor} density {feature.profiles[receptor].unit}')\n",
    "        \n",
    "\n",
    "    "
   ]
  },
  {
   "cell_type": "markdown",
   "metadata": {},
   "source": [
    "### 5. Run a differential gene expression analysis for the two regions"
   ]
  },
  {
   "cell_type": "code",
   "execution_count": null,
   "metadata": {},
   "outputs": [],
   "source": [
    "from siibra_jugex import DifferentialGeneExpression"
   ]
  },
  {
   "cell_type": "code",
   "execution_count": null,
   "metadata": {},
   "outputs": [],
   "source": [
    "# setup and run the analysis\n",
    "jugex = DifferentialGeneExpression(jubrain)\n",
    "jugex.add_candidate_genes(['GABBR1', 'GABBR2'])\n",
    "threshold=0.2\n",
    "jugex.define_roi1(regions[0].name, maptype=siibra.MapType.CONTINUOUS, threshold=threshold)\n",
    "jugex.define_roi2(regions[1].name, maptype=siibra.MapType.CONTINUOUS, threshold=threshold)\n",
    "result = jugex.run(permutations=1000)\n",
    "print(result['p-values'])"
   ]
  },
  {
   "cell_type": "code",
   "execution_count": null,
   "metadata": {},
   "outputs": [],
   "source": [
    "# plot the extracted sample positions of the microarray data\n",
    "from nilearn import plotting\n",
    "for region in regions:\n",
    "    samples = jugex.get_samples(region.name)\n",
    "    pmap = region.get_regional_map(\n",
    "        siibra.spaces.MNI152_2009C_NONL_ASYM, \n",
    "        siibra.MapType.CONTINUOUS)    \n",
    "    display = plotting.plot_roi(pmap.fetch(), cmap=\"jet\", title=region.name)\n",
    "    display.add_markers([s['mnicoord'] for s in samples.values()])"
   ]
  }
 ],
 "metadata": {
  "kernelspec": {
   "display_name": "Python 3",
   "language": "python",
   "name": "python3"
  },
  "language_info": {
   "codemirror_mode": {
    "name": "ipython",
    "version": 3
   },
   "file_extension": ".py",
   "mimetype": "text/x-python",
   "name": "python",
   "nbconvert_exporter": "python",
   "pygments_lexer": "ipython3",
   "version": "3.9.10"
  }
 },
 "nbformat": 4,
 "nbformat_minor": 4
}
