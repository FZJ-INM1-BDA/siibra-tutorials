{
 "cells": [
  {
   "cell_type": "code",
   "execution_count": null,
   "metadata": {},
   "outputs": [],
   "source": [
    "!pip install siibra==0.4a29"
   ]
  },
  {
   "cell_type": "code",
   "execution_count": null,
   "metadata": {},
   "outputs": [],
   "source": [
    "import siibra\n",
    "assert siibra.__version__ >= \"0.4a28\"\n",
    "from nilearn import plotting\n",
    "import matplotlib.pyplot as plt\n",
    "%matplotlib notebook"
   ]
  },
  {
   "cell_type": "markdown",
   "metadata": {},
   "source": [
    "### Define two points in MNI space\n",
    "\n",
    "We start by specifying some points in the reference space. Here, we use the MNI space. We can find such points, amongst other possibilities, by clicking them in the [siibra-explorer](https://siibra-explorer.apps.hbp.eu/). `siibra` has specific data types for points and point sets, which are aware of the reference space used, and can be warped between reference spaces on demand."
   ]
  },
  {
   "cell_type": "code",
   "execution_count": null,
   "metadata": {},
   "outputs": [],
   "source": [
    "# These are copy-pasted from the interactive atlas viewer:\n",
    "points = siibra.PointSet(\n",
    "    [\n",
    "        \"-25.650mm, -2.750mm, -33.750mm\",\n",
    "        \"-37.350mm, -81.050mm, -6.300mm\"\n",
    "    ], \n",
    "    space='mni152', sigma_mm=5)"
   ]
  },
  {
   "cell_type": "code",
   "execution_count": null,
   "metadata": {},
   "outputs": [],
   "source": [
    "plotting.view_markers(list(map(tuple,points)), ['red', 'cyan'], marker_size=10)  "
   ]
  },
  {
   "cell_type": "markdown",
   "metadata": {},
   "source": [
    "### Assign brain regions to the 3D points\n",
    "\n",
    "We assign the points to brain regions from the Julich-Brain cytoarchitectonic atlas, using a certain location tolerance of 5mm standard deviation."
   ]
  },
  {
   "cell_type": "code",
   "execution_count": null,
   "metadata": {},
   "outputs": [],
   "source": [
    "julich_pmaps = siibra.get_map(\n",
    "    parcellation=siibra.parcellations.JULICH_BRAIN_PROBABILISTIC_CYTOARCHITECTONIC_MAPS_V2_9,\n",
    "    space=siibra.spaces.MNI_152_ICBM_2009C_NONLINEAR_ASYMMETRIC,\n",
    "    maptype=siibra.MapType.STATISTICAL\n",
    ")\n",
    "assignments = julich_pmaps.assign(points)"
   ]
  },
  {
   "cell_type": "markdown",
   "metadata": {},
   "source": [
    "The result of the assignment is a pandas dataframe, where each row describes a region assigned to one of the input structures (which in this case are the provided two points, 0 and 1). Each assignment has some scores describing the relation of the point, represented as a 3D Gaussian kernel with bandwidth corresponding to the point uncertainty, and the respectivty assigned statistical map from the parcellation:\n",
    "\n",
    "- \"Value\" refers to the average value of the statistcal map under the point kernel\n",
    "- \"Correlation\" is Pearson's correlation coefficient between the statistical map and the point kernel\n",
    "- \"IoU\" is the intersection over union between both\n",
    "- \"Contains\" is the intersection over area of the statistical map (indicating containedness of the point)\n",
    "- \"Contained\" is the intersection over area of the point (indicating containedness of the statistical map)\n",
    "\n",
    "To see the strongest assignments, we sort by containedness and filter the table:"
   ]
  },
  {
   "cell_type": "code",
   "execution_count": null,
   "metadata": {},
   "outputs": [],
   "source": [
    "assignments.query(\"Value > 0.9 & Contains > 0.6\")"
   ]
  },
  {
   "cell_type": "markdown",
   "metadata": {},
   "source": [
    "Let's look at the areas with highest containedness assigned to each point."
   ]
  },
  {
   "cell_type": "code",
   "execution_count": null,
   "metadata": {},
   "outputs": [],
   "source": [
    "assignments.sort_values(by='Contains', ascending=False, inplace=True)\n",
    "\n",
    "a1 = assignments.query('Structure==0').iloc[0]\n",
    "a2 = assignments.query('Structure==1').iloc[0]\n",
    "\n",
    "for a in [a1, a2]:\n",
    "    \n",
    "    # fetch the probability map corresponding to the assigned regions\n",
    "    statmap = julich_pmaps.fetch(region=a.Region)\n",
    "\n",
    "    # plot the map, center at the point\n",
    "    view = plotting.plot_stat_map(\n",
    "        statmap, \n",
    "        title=f\"{a.Region} ({a.Contains:.2f})\", \n",
    "        cmap='viridis', \n",
    "        cut_coords=a.Centroid)\n",
    "\n",
    "    # add the point\n",
    "    view.add_markers([a.Centroid])"
   ]
  },
  {
   "cell_type": "markdown",
   "metadata": {},
   "source": [
    "### Look for white matter bundles connecting the regions\n",
    "\n",
    "Next, we look at the most probable region associated to each point, considering them as a source and target region to investigate connectivity. In order to find white matter fibre bundles which are likely to connect them, we use the probability maps of the white matter fibre bundle parcellation, and assign both the source and target region from Julich-Brain to the fibre bundles. The intersection of the resulting bundles gives us those that are likely to provide connections from source to target."
   ]
  },
  {
   "cell_type": "code",
   "execution_count": null,
   "metadata": {},
   "outputs": [],
   "source": [
    "# get the probabilistic maps of long fibre bundles\n",
    "bundlemaps = siibra.get_map(\n",
    "    siibra.parcellations.PROBABILISTIC_LONG_WHITE_MATTER_BUNDLE_MAPS,\n",
    "    siibra.spaces.MNI_152_ICBM_2009C_NONLINEAR_ASYMMETRIC,\n",
    "    siibra.MapType.STATISTICAL\n",
    ")\n",
    "\n",
    "# assign the source and target region to the bundles, \n",
    "# using their probability maps found above.\n",
    "bundles1 = bundlemaps.assign(julich_pmaps.fetch(region=a1.Region))\n",
    "bundles2 = bundlemaps.assign(julich_pmaps.fetch(region=a2.Region))\n",
    "                \n",
    "# intersect the two sets of related fiber bundles\n",
    "# we use panda's merge functionality for this operation.\n",
    "intersection = bundles1.merge(right=bundles2, how='inner', on=['Region'])\n",
    "intersection"
   ]
  },
  {
   "cell_type": "markdown",
   "metadata": {},
   "source": [
    "Now we plot the bundles in the intersection."
   ]
  },
  {
   "cell_type": "code",
   "execution_count": null,
   "metadata": {},
   "outputs": [],
   "source": [
    "for i, row in intersection.iterrows():\n",
    "    view = plotting.plot_glass_brain(\n",
    "        bundlemaps.fetch(region=row.Region),\n",
    "        title=f\"{a1.Region} and {a2.Region} connected by {row.Region} \")\n",
    "    \n",
    "    view.add_overlay(julich_pmaps.fetch(region=a1.Region))\n",
    "    view.add_overlay(julich_pmaps.fetch(region=a2.Region))\n",
    "\n",
    "    view.add_markers(points.as_list())"
   ]
  },
  {
   "cell_type": "markdown",
   "metadata": {},
   "source": [
    "### Find connectivity in terms of streamlines from DTI\n",
    "\n",
    "We also investigate the connectivtiy of the two regions as measured by in-vivo imaging. To do so, we select the first region in the atlas, and search for connectivity profiles."
   ]
  },
  {
   "cell_type": "code",
   "execution_count": null,
   "metadata": {},
   "outputs": [],
   "source": [
    "# get structural connectivity matrices for  Julich Brain\n",
    "features = siibra.features.get(\n",
    "    julich_pmaps.parcellation,\n",
    "    siibra.features.connectivity.StreamlineCounts\n",
    ")\n",
    "\n",
    "# get the averaged connectivity across subjects from the first feature\n",
    "sc = features[0].get_matrix()\n",
    "\n",
    "# get the connectivity profile with the strongest 10 connections for the first matched region\n",
    "profile = features[0].get_profile(a1.Region, max_rows=10)\n",
    "\n",
    "profile.plot()"
   ]
  },
  {
   "cell_type": "code",
   "execution_count": null,
   "metadata": {},
   "outputs": [],
   "source": []
  }
 ],
 "metadata": {
  "kernelspec": {
   "display_name": "Python 3 (ipykernel)",
   "language": "python",
   "name": "python3"
  },
  "language_info": {
   "codemirror_mode": {
    "name": "ipython",
    "version": 3
   },
   "file_extension": ".py",
   "mimetype": "text/x-python",
   "name": "python",
   "nbconvert_exporter": "python",
   "pygments_lexer": "ipython3",
   "version": "3.10.9"
  },
  "vscode": {
   "interpreter": {
    "hash": "c6134497cd5410b1b275ebc88f99d14855849379b696eb9e04cff5dd9aa5e77a"
   }
  }
 },
 "nbformat": 4,
 "nbformat_minor": 4
}
