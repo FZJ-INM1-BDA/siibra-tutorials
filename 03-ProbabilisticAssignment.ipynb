{
 "cells": [
  {
   "cell_type": "code",
   "execution_count": null,
   "metadata": {},
   "outputs": [],
   "source": [
    "!pip install siibra siibra-jugex matplotlib nilearn"
   ]
  },
  {
   "cell_type": "code",
   "execution_count": null,
   "metadata": {},
   "outputs": [],
   "source": [
    "import siibra\n",
    "from nilearn import plotting\n",
    "import matplotlib.pyplot as plt\n",
    "%matplotlib notebook"
   ]
  },
  {
   "cell_type": "markdown",
   "metadata": {},
   "source": [
    "### Define two points in MNI space\n",
    "\n",
    "We start by specifying some points in the reference space. Here, we use the MNI space. We can find such point, amongst other possibilities, by clicking them in the [siibra-explorer](https://siibra-explorer.apps.hbp.eu/)."
   ]
  },
  {
   "cell_type": "code",
   "execution_count": null,
   "metadata": {},
   "outputs": [],
   "source": [
    "pt_mni = siibra.Point(\n",
    "    (-25.65, -2.75, -33.75), space=\"mni152\")\n",
    "view1 = plotting.plot_anat(\n",
    "    cut_coords=tuple(pt_mni), \n",
    "    title=\"Point in MNI152 space\")\n",
    "view1.add_markers([tuple(pt_mni)])\n",
    "\n",
    "pt_bb = pt_mni.warp('bigbrain')\n",
    "atlas = siibra.atlases['human']\n",
    "bigbrain = atlas.get_template(\"bigbrain\")\n",
    "view2 = plotting.plot_anat(\n",
    "    bigbrain.fetch(), cut_coords=tuple(pt_bb), \n",
    "    title=\"Point in BigBrain space\")\n",
    "view2.add_markers([tuple(pt_bb)])"
   ]
  },
  {
   "cell_type": "code",
   "execution_count": null,
   "metadata": {},
   "outputs": [],
   "source": [
    "point = siibra.Point((-25.65, -2.75, -33.75), space=\"mni152\", sigma_mm=5)\n",
    "pmaps = siibra.atlases['human'].get_map(\n",
    "    space=\"mni152\", parcellation=\"julich 2.9\", maptype=\"continuous\")\n",
    "assignments = pmaps.assign(point)\n",
    "a = assignments.iloc[0] # look at the first assignment\n",
    "view = plotting.plot_stat_map( \n",
    "    pmaps.fetch(mapindex=a.MapIndex), cut_coords=tuple(point),\n",
    "    cmap='viridis',\n",
    "    title=f\"{a.Region} ({a.Correlation:.2f})\") \n",
    "view.add_markers([tuple(point)])"
   ]
  },
  {
   "cell_type": "code",
   "execution_count": null,
   "metadata": {},
   "outputs": [],
   "source": [
    "# These are copy-pasted from the interactive atlas viewer:\n",
    "points = siibra.PointSet(\n",
    "    [\n",
    "        \"-25.650mm, -2.750mm, -33.750mm\",\n",
    "        \"-37.350mm, -81.050mm, -6.300mm\"\n",
    "    ], \n",
    "    space='mni152', sigma_mm=5)"
   ]
  },
  {
   "cell_type": "code",
   "execution_count": null,
   "metadata": {},
   "outputs": [],
   "source": [
    "plotting.view_markers(list(map(tuple,points)), ['red', 'cyan'], marker_size=10)  "
   ]
  },
  {
   "cell_type": "markdown",
   "metadata": {},
   "source": [
    "### Assign brain regions to the 3D points\n",
    "\n",
    "We assign the points to brain regions from the Julich-Brain cytoarchitectonic atlas, using a certain location tolerance of 5mm standard deviation."
   ]
  },
  {
   "cell_type": "code",
   "execution_count": null,
   "metadata": {},
   "outputs": [],
   "source": [
    "atlas = siibra.atlases['human']\n",
    "pmaps = atlas.get_map(space=\"mni152\",parcellation=\"julich\",maptype=\"continuous\")\n",
    "assignments = pmaps.assign(points)\n",
    "assignments[:10]"
   ]
  },
  {
   "cell_type": "markdown",
   "metadata": {},
   "source": [
    "Let's look at the most probable area found for each point."
   ]
  },
  {
   "cell_type": "code",
   "execution_count": null,
   "metadata": {},
   "outputs": [],
   "source": [
    "# get the best assignment for each of the two points\n",
    "a1 = assignments.query('Component==0').iloc[0]\n",
    "a2 = assignments.query('Component==1').iloc[0]\n",
    "\n",
    "statmap1 = pmaps.fetch(mapindex=a1.MapIndex)\n",
    "statmap2 = pmaps.fetch(mapindex=a2.MapIndex)\n",
    "\n",
    "view1 = plotting.plot_stat_map(\n",
    "    statmap1, \n",
    "    title=f\"{a1.Region} ({a1.Correlation:.2f})\", \n",
    "    cmap='viridis', cut_coords=tuple(points[0]))\n",
    "view2 = plotting.plot_stat_map(\n",
    "    statmap2, \n",
    "    title=f\"{a2.Region} ({a2.Correlation:.2f})\", \n",
    "    cmap='viridis', cut_coords=tuple(points[1]))\n",
    "view1.add_markers([tuple(points[0])])\n",
    "view2.add_markers([tuple(points[1])])"
   ]
  },
  {
   "cell_type": "markdown",
   "metadata": {},
   "source": [
    "### Look for white matter bundles connecting the regions\n",
    "\n",
    "Next, we look at the most probable region associated to each point, considering them as a source and target region to investigate connectivity. In order to find white matter fibre bundles which are likely to connect them, we use the probability maps of the white matter fibre bundle parcellation, and assign both the source and target region from Julich-Brain to the fibre bundles. The intersection of the resulting bundles gives us those that are likely to provide connections from source to target."
   ]
  },
  {
   "cell_type": "code",
   "execution_count": null,
   "metadata": {},
   "outputs": [],
   "source": [
    "# get the probabilistic maps of long fibre bundles\n",
    "bundlemaps = atlas.get_map(\"mni152\",\"long bundles\",\"continuous\")\n",
    "\n",
    "# assign the source and target region to the bundles, \n",
    "# using their probability maps found above.\n",
    "bundles1, components1 = bundlemaps.assign(statmap1, msg=f\"Find bundles touching {a1.Region}\")\n",
    "bundles2, components2 = bundlemaps.assign(statmap2, msg=f\"Find bundles touching {a2.Region}\")\n",
    "                \n",
    "# intersect the two sets of related fiber bundles\n",
    "intersection = bundles1.merge(right=bundles2, how='inner', on=['Region'])\n",
    "intersection"
   ]
  },
  {
   "cell_type": "code",
   "execution_count": null,
   "metadata": {},
   "outputs": [],
   "source": [
    "# plot each of the bundles in the intersection (but no more than 3)\n",
    "for i, row in intersection.iterrows():\n",
    "    view = plotting.plot_glass_brain(\n",
    "        bundlemaps.fetch(mapindex=row.MapIndex_x),\n",
    "        title=f\"{a1.Region} and {a2.Region} connected by {row.Region} \")\n",
    "    view.add_overlay(statmap1)\n",
    "    view.add_overlay(statmap2)\n",
    "    view.add_markers([tuple(points[0]),tuple(points[1])])"
   ]
  },
  {
   "cell_type": "markdown",
   "metadata": {},
   "source": [
    "### Find connectivity in terms of streamlines from DTI\n",
    "\n",
    "We also investigate the connectivtiy of the two regions as measured by in-vivo imaging. To do so, we select the first region in the atlas, and search for connectivity profiles."
   ]
  },
  {
   "cell_type": "code",
   "execution_count": null,
   "metadata": {},
   "outputs": [],
   "source": [
    "# get an access token for EBRAINS - this requires you to register an EBRAINS account!\n",
    "import os\n",
    "os.environ['SIIBRA_ENABLE_DEVICE_FLOW'] = 'true'\n",
    "siibra.fetch_ebrains_token()"
   ]
  },
  {
   "cell_type": "code",
   "execution_count": null,
   "metadata": {},
   "outputs": [],
   "source": [
    "# get structural connectivity matrices for  Julich Brain\n",
    "features = siibra.get_features(pmaps.parcellation, \"StreamlineCounts\")\n",
    "\n",
    "# just use the first one here\n",
    "conn = features[0]\n",
    "\n",
    "# grep the connectivity profile of the source region that we used above\n",
    "src_region = pmaps.decode_region(a1.Region)\n",
    "profile = conn.matrix[src_region]"
   ]
  },
  {
   "cell_type": "markdown",
   "metadata": {},
   "source": [
    "Create a bar plot of the 20 strongest connections in the connectivity profile."
   ]
  },
  {
   "cell_type": "code",
   "execution_count": null,
   "metadata": {},
   "outputs": [],
   "source": [
    "fig = plt.figure()\n",
    "profile.sort_values(ascending=False)[:20].plot(kind='bar', grid=True)\n",
    "fig.gca().set_title(f\"Connection strengths from area {src_region.name}\")"
   ]
  },
  {
   "cell_type": "code",
   "execution_count": null,
   "metadata": {},
   "outputs": [],
   "source": []
  }
 ],
 "metadata": {
  "kernelspec": {
   "display_name": "Python 3.8.12 64-bit ('3.8.12')",
   "language": "python",
   "name": "python3"
  },
  "language_info": {
   "codemirror_mode": {
    "name": "ipython",
    "version": 3
   },
   "file_extension": ".py",
   "mimetype": "text/x-python",
   "name": "python",
   "nbconvert_exporter": "python",
   "pygments_lexer": "ipython3",
   "version": "3.8.12"
  },
  "vscode": {
   "interpreter": {
    "hash": "c6134497cd5410b1b275ebc88f99d14855849379b696eb9e04cff5dd9aa5e77a"
   }
  }
 },
 "nbformat": 4,
 "nbformat_minor": 4
}
