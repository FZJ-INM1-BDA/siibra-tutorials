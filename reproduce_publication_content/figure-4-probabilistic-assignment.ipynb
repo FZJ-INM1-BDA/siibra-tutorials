{
 "cells": [
  {
   "cell_type": "code",
   "execution_count": null,
   "id": "51571a53",
   "metadata": {},
   "outputs": [],
   "source": [
    "import siibra\n",
    "assert siibra.__version__ >= \"1.0a17\"\n",
    "from nilearn import plotting, image\n",
    "import re\n",
    "import numpy as np\n",
    "import matplotlib.pyplot as plt\n",
    "import pandas as pd\n",
    "import seaborn as sns\n",
    "sns.set_style('dark')"
   ]
  },
  {
   "cell_type": "markdown",
   "id": "7a64df9b",
   "metadata": {},
   "source": [
    "# Input: some feature  distribution in MNI space \n",
    "\n",
    "We compose an artificial input image by merging some functional maps from the DiFuMo atlas, but this could be anything, e.g. an fMRI activation map. The image is built as a NIfTI, but then casted to a siibra volume so we have a reference space attached and can used it properly in the siibra workflows. Getting the NIfTI object from the siibra volume is cheap and easy via `.fetch()`. "
   ]
  },
  {
   "cell_type": "code",
   "execution_count": null,
   "id": "1ab3ef91",
   "metadata": {},
   "outputs": [],
   "source": [
    "difumo128 = siibra.get_map(parcellation=\"difumo 64\", space='mni152', maptype='statistical')\n",
    "img = image.smooth_img(image.math_img(\n",
    "        \"np.maximum(np.maximum(im1, im2), im3)\", \n",
    "        im1=difumo128.fetch(region=\"3\"), \n",
    "        im2=difumo128.fetch(region=\"31\"),\n",
    "        im3=difumo128.fetch(region=\"30\"), \n",
    "    ), 10)\n",
    "\n",
    "# we cast the nifti object to a siibra volume, so it has a space attached and can be used properly\n",
    "input_volume = siibra.volumes.from_nifti(img, space='mni152', name='example input volume')\n",
    "plotting.plot_glass_brain(input_volume.fetch(), alpha=1, cmap='RdBu', symmetric_cbar=True)"
   ]
  },
  {
   "cell_type": "markdown",
   "id": "caedfb4c",
   "metadata": {},
   "source": [
    "# Split input volume into cluster components\n",
    "\n",
    "There are many ways to get components out of a feature map. Here we use siibra to \n",
    "\n",
    "- draw random points from the distribution encoded by the input volume, then \n",
    "- cluster them using DBSCAN, and \n",
    "- build clusterwise featuremaps as Kernel Density estimates thereof.\n",
    "\n",
    "In this example, this more or less inverts the composition of the input volume from the DiFuMo maps, but the idea for a general input image is to separate it into components that have more meaningful correlations with brain regions than the full image, which is usually a mixture distribution. "
   ]
  },
  {
   "cell_type": "code",
   "execution_count": null,
   "id": "52489eb1",
   "metadata": {},
   "outputs": [],
   "source": [
    "np.random.seed(25)\n",
    "N = 10000  # number of random samples\n",
    "# drawing the samples results in a siibra PointSet, \n",
    "# which has reference space attached and can model point uncertainties.\n",
    "samples = input_volume.draw_samples(N, e=5, sigma_mm=3)\n",
    "\n",
    "# finding the clusters will result in a labelling of the point set.\n",
    "samples.find_clusters(min_fraction=1/300, max_fraction=1/2)\n",
    "clusterlabels = set(samples.labels) - {-1}\n",
    "\n",
    "# Let's have a look at the clustered pointcloud\n",
    "view = plotting.plot_glass_brain(input_volume.fetch(), alpha=1, threshold=15, cmap='RdGy')\n",
    "view.add_markers(\n",
    "    np.array(samples.as_list())[samples.labels >= 0],\n",
    "    marker_size=5,\n",
    "    marker_color=[samples.label_colors[l] for l in samples.labels if l >= 0]\n",
    ")"
   ]
  },
  {
   "cell_type": "markdown",
   "id": "4d7877a7",
   "metadata": {},
   "source": [
    "# Assign peaks and clusters to cytoarchitectonic regions\n",
    "\n",
    "To assign the clusters to brain regions, we build feature maps from each cluster and assign them to the Julich-Brain probabilistic maps. The assignemint is one-to-many since the structures in the image and parcellation are continuous. Assignments report correlation, intersection over union, and some other measures which we can use to filter and sort them.\n",
    "\n",
    "The result is an assignment table from cluster components in the input volume to regions in the Julich-Brain atlas."
   ]
  },
  {
   "cell_type": "code",
   "execution_count": null,
   "id": "751004e4",
   "metadata": {},
   "outputs": [],
   "source": [
    "min_correlation = 0.2\n",
    "min_map_value = 0.5\n",
    "pmaps = siibra.get_map(parcellation=\"julich 3.1\", space=\"mni152\", maptype='statistical', spec='207')\n",
    "assignments = []"
   ]
  },
  {
   "cell_type": "code",
   "execution_count": null,
   "id": "02c1f25b",
   "metadata": {},
   "outputs": [],
   "source": [
    "# assign peaks to regions\n",
    "peaks = input_volume.find_peaks(mindist=5, sigma_mm=0)\n",
    "with siibra.QUIET:\n",
    "    df = pmaps.assign(peaks)\n",
    "df.query(f\"`map value` >= {min_map_value}\", engine='python', inplace=True)\n",
    "df['type'] = 'peak'\n",
    "df['id'] = df['input structure']   \n",
    "assignments.append(df[['type', 'id', 'region', 'map value']])\n",
    "\n",
    "view = plotting.plot_glass_brain(input_volume.fetch(), alpha=1, cmap='RdBu', symmetric_cbar=True)\n",
    "view.add_markers(peaks.as_list(), marker_size=30)"
   ]
  },
  {
   "cell_type": "code",
   "execution_count": null,
   "id": "4f34c5b4",
   "metadata": {},
   "outputs": [],
   "source": [
    "# assign clusters to regions\n",
    "for l in clusterlabels:\n",
    "    clustermap = siibra.volumes.from_pointset(samples, label=l, target=input_volume)\n",
    "    plotting.plot_glass_brain(\n",
    "        clustermap.fetch(), alpha=1, cmap='RdBu', title=f\"Cluster #{l}\",\n",
    "        symmetric_cbar=True\n",
    "    )\n",
    "    with siibra.QUIET:\n",
    "        df = pmaps.assign(clustermap)\n",
    "    df.query(f\"correlation >= {min_correlation}\", engine='python', inplace=True)\n",
    "    df['type'] = 'cluster'\n",
    "    df['id'] = l    \n",
    "    assignments.append(df[['type', 'id', 'region', 'correlation', 'map value']])"
   ]
  },
  {
   "cell_type": "code",
   "execution_count": null,
   "id": "9df8c0ab",
   "metadata": {},
   "outputs": [],
   "source": [
    "all_assignments = pd.concat(assignments).sort_values(by='correlation', ascending=False)\n",
    "all_assignments"
   ]
  },
  {
   "cell_type": "code",
   "execution_count": null,
   "id": "473386f1-803c-4dd0-b344-b763bcab38df",
   "metadata": {},
   "outputs": [],
   "source": [
    "# plot the three primary assigned probability maps\n",
    "regions = set()\n",
    "for n, a in all_assignments.iterrows():\n",
    "    if a.region in regions:\n",
    "        continue\n",
    "    pmap = pmaps.fetch(a.region)\n",
    "    plotting.plot_glass_brain(pmap, cmap='hot_r')\n",
    "    regions.add(a.region)\n",
    "    print(a.region, a.correlation)\n",
    "    if len(regions) == 3:\n",
    "        break"
   ]
  },
  {
   "cell_type": "markdown",
   "id": "fe6f1d69",
   "metadata": {},
   "source": [
    "# Find features\n",
    "\n",
    "To demonstrate multimodal feature profiling, we only choose the first connected region."
   ]
  },
  {
   "cell_type": "code",
   "execution_count": null,
   "id": "28a91128-69b2-4d37-8486-a3e738b150e8",
   "metadata": {},
   "outputs": [],
   "source": [
    "def shortname(region):\n",
    "    return (\n",
    "        re.sub('\\s*\\(.*\\)\\s*|\\s*Areaa\\s*', ' ', region.name)\n",
    "        .replace('left', 'L')\n",
    "        .replace('right', 'R')\n",
    "        .strip()\n",
    "    )\n",
    "\n",
    "def filter_features(feats, region):\n",
    "    return [f for f in feats if any(r.assign(region) for r in f.anchor.regions)]\n",
    "\n",
    "def plot_receptors(region, ax):\n",
    "    fts = filter_features(\n",
    "        siibra.features.get(region, siibra.features.molecular.ReceptorDensityFingerprint),\n",
    "        region\n",
    "    )\n",
    "    fts[0].plot(ax=ax)\n",
    "\n",
    "def plot_celldensities(region, ax):\n",
    "    fts = filter_features(\n",
    "        siibra.features.get(region, siibra.features.cellular.LayerwiseCellDensity),\n",
    "        region\n",
    "    )\n",
    "    fts[0].plot(ax=ax)\n",
    "\n",
    "def plot_gene_expressions(region, ax, genes):\n",
    "    fts = siibra.features.get(region, siibra.features.molecular.GeneExpressions, gene=genes)\n",
    "    fts[0].plot(ax=ax)\n",
    "\n",
    "def plot_connectivity(region, ax):\n",
    "    fts = siibra.features.get(region, siibra.features.connectivity.StreamlineCounts)\n",
    "    conndata = fts[0][0].get_profile(region).data\n",
    "    conndata.rename(index={r:shortname(r) for r in conndata.index}, inplace=True)\n",
    "    conndata[:15].plot(kind='bar', ax=ax)\n",
    "    plt.xticks(ha='right')\n",
    "    plt.tight_layout()\n",
    "    plt.grid(True)\n",
    "    plt.title(f'Connectivity for {region.name}')"
   ]
  },
  {
   "cell_type": "code",
   "execution_count": null,
   "id": "f974e887",
   "metadata": {},
   "outputs": [],
   "source": [
    "for r in regions:\n",
    "    print(r.name)"
   ]
  },
  {
   "cell_type": "code",
   "execution_count": null,
   "id": "6733981a",
   "metadata": {},
   "outputs": [],
   "source": [
    "selected_region = siibra.get_region(\"julich 3.1\", \"Area hOc1 (V1, 17, CalcS) left\")"
   ]
  },
  {
   "cell_type": "code",
   "execution_count": null,
   "id": "3d303d3f",
   "metadata": {},
   "outputs": [],
   "source": [
    "plot_funcs = [\n",
    "    lambda r, a: plot_receptors(r, a),\n",
    "    lambda r, a: plot_celldensities(r, a),\n",
    "    lambda r, a: plot_connectivity(r, a),\n",
    "    lambda r, a: plot_gene_expressions(r, a, ['gabarapl1', 'gabarapl2', 'maoa', 'tac1']),\n",
    "]\n",
    "\n",
    "fig, axs = plt.subplots(1, len(plot_funcs), figsize=(3.5 * len(plot_funcs), 4))\n",
    "for ax, func in zip(axs.ravel(), plot_funcs):\n",
    "    func(r=selected_region, a=ax)\n",
    "    ax.grid(True)\n",
    "    xtl = ax.get_xticklabels()\n",
    "    ax.set_xticklabels(xtl, rotation=55, ha='right')\n",
    "plt.suptitle('')\n",
    "plt.tight_layout()"
   ]
  },
  {
   "cell_type": "code",
   "execution_count": null,
   "id": "36ee2783",
   "metadata": {},
   "outputs": [],
   "source": []
  }
 ],
 "metadata": {
  "kernelspec": {
   "display_name": "venv",
   "language": "python",
   "name": "python3"
  },
  "language_info": {
   "codemirror_mode": {
    "name": "ipython",
    "version": 3
   },
   "file_extension": ".py",
   "mimetype": "text/x-python",
   "name": "python",
   "nbconvert_exporter": "python",
   "pygments_lexer": "ipython3",
   "version": "3.9.15"
  }
 },
 "nbformat": 4,
 "nbformat_minor": 5
}
