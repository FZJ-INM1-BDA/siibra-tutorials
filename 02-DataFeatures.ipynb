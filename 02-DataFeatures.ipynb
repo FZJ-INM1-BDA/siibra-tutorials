{
 "cells": [
  {
   "cell_type": "markdown",
   "id": "87b3cac8",
   "metadata": {
    "slideshow": {
     "slide_type": "slide"
    }
   },
   "source": [
    "# Extracting multimodal data features\n",
    "\n",
    "`siibra` provides access to data features of different modalities. The features and their query functions are bundled in the module `siibra.features`. "
   ]
  },
  {
   "cell_type": "code",
   "execution_count": null,
   "id": "cf1f23d0",
   "metadata": {},
   "outputs": [],
   "source": [
    "import siibra\n",
    "from packaging.version import Version\n",
    "assert Version(siibra.__version__) >= Version('1.0a08')"
   ]
  },
  {
   "cell_type": "markdown",
   "id": "7b75cdf8",
   "metadata": {},
   "source": [
    "We can choose different types of features from this module. The feature types are organized in a hierarchy under the most abstract type `siibra.features.Feature`. All other feature types are subclasses of it. The current hierarchy can be obtained by"
   ]
  },
  {
   "cell_type": "code",
   "execution_count": 26,
   "id": "96143ef5",
   "metadata": {},
   "outputs": [
    {
     "name": "stdout",
     "output_type": "stream",
     "text": [
      "Feature\n",
      "├── CompoundFeature\n",
      "├── Tabular\n",
      "│   ├── CorticalProfile\n",
      "│   │   ├── BigBrainIntensityProfile\n",
      "│   │   ├── CellDensityProfile\n",
      "│   │   └── ReceptorDensityProfile\n",
      "│   ├── GeneExpressions\n",
      "│   │   ├── ProxyFeature\n",
      "│   │   └── ProxyFeature\n",
      "│   ├── LayerwiseBigBrainIntensities\n",
      "│   ├── LayerwiseCellDensity\n",
      "│   ├── ReceptorDensityFingerprint\n",
      "│   └── RegionalTimeseriesActivity\n",
      "│       └── RegionalBOLD\n",
      "├── RegionalConnectivity\n",
      "│   ├── FunctionalConnectivity\n",
      "│   ├── AnatomoFunctionalConnectivity\n",
      "│   ├── StreamlineCounts\n",
      "│   ├── StreamlineLengths\n",
      "│   └── TracingConnectivity\n",
      "├── Image\n",
      "│   ├── CellBodyStainedVolumeOfInterest\n",
      "│   ├── BlockfaceVolumeOfInterest\n",
      "│   ├── DTIVolumeOfInterest\n",
      "│   ├── PLIVolumeOfInterest\n",
      "│   ├── MRIVolumeOfInterest\n",
      "│   ├── XPCTVolumeOfInterest\n",
      "│   ├── LSFMVolumeOfInterest\n",
      "│   └── CellbodyStainedSection\n",
      "└── EbrainsDataFeature\n"
     ]
    }
   ],
   "source": [
    "siibra.features.render_ascii_tree(\"Feature\")"
   ]
  },
  {
   "cell_type": "markdown",
   "id": "3d47c73a",
   "metadata": {},
   "source": [
    "### Example: Densities of neurotransmitter receptors\n",
    "\n",
    "Features can be queried for brain regions, parcellations and location objects (such as volumes of interest in a refrence space) with `siibra.features.get()`, which accepts a query object and a feature type. It will query all subclasses of the given feature type, if any. Here is a simple example for getting a receptor density fingerprint in region V1. The data is of tabular type, provided as a pandas dataframe."
   ]
  },
  {
   "cell_type": "code",
   "execution_count": null,
   "id": "fd6faf9f",
   "metadata": {},
   "outputs": [],
   "source": [
    "v1 = siibra.get_region(parcellation='julich 2.9', region='v1')"
   ]
  },
  {
   "cell_type": "code",
   "execution_count": null,
   "id": "5aababb4",
   "metadata": {},
   "outputs": [],
   "source": [
    "features = siibra.features.get(\n",
    "    v1, siibra.features.molecular.ReceptorDensityFingerprint\n",
    ")\n",
    "print(features[0].name)\n",
    "features[0].data.T  # we transpose the table for display"
   ]
  },
  {
   "cell_type": "markdown",
   "id": "30fa6632",
   "metadata": {},
   "source": [
    "Most features provide a plot method for easy inspection."
   ]
  },
  {
   "cell_type": "code",
   "execution_count": null,
   "id": "51cf64ec",
   "metadata": {},
   "outputs": [],
   "source": [
    "features[0].plot()"
   ]
  },
  {
   "cell_type": "markdown",
   "id": "db81a0e1",
   "metadata": {},
   "source": [
    "Typically, not all regions have all data modalities linked. Neurotransmitter density fingerprints are currently available for part of the cytoarchitectonic brain regions in human. We can see this by querying with the parcellation, which represents the root region and thus provides all features linked to any Julich-Brain regions.\n",
    "\n",
    "Here we just print the set of unique region names for which receptor densities are linked."
   ]
  },
  {
   "cell_type": "code",
   "execution_count": null,
   "id": "8aaac974",
   "metadata": {},
   "outputs": [],
   "source": [
    "features = siibra.features.get(\n",
    "    siibra.parcellations.get('julich'),\n",
    "    siibra.features.molecular.ReceptorDensityFingerprint\n",
    ")\n",
    "print(\n",
    "    \"Regions with receptor features:\\n - \"\n",
    "    + \"\\n - \".join(\n",
    "        {r.name for f in features for r in f.anchor.regions}\n",
    "    )\n",
    ")"
   ]
  },
  {
   "cell_type": "markdown",
   "id": "301ce31b",
   "metadata": {},
   "source": [
    "### Cortical cell densities\n",
    "\n",
    "The cellular level contains layer-specific cell distributions extracted from different regions of BigBrain."
   ]
  },
  {
   "cell_type": "code",
   "execution_count": null,
   "id": "9e1afe52",
   "metadata": {},
   "outputs": [],
   "source": [
    "features = siibra.features.get(v1, siibra.features.cellular.LayerwiseCellDensity)\n",
    "print(\n",
    "    f\"{features[0].modality}\\n\\n\"\n",
    "    f\"{features[0].description}\"\n",
    ")\n",
    "fig = features[0].plot()"
   ]
  },
  {
   "cell_type": "markdown",
   "id": "6b614ad5",
   "metadata": {},
   "source": [
    "We can retrieve a similar feature representing staining intensities in BigBrain - `siibra.features.cellular.LayerwiseBigBrainIntensities`. This uses cortical staining profiles computed by Konrad Wagstyl. At first call, the query will take a bit to retrieve the profiles."
   ]
  },
  {
   "cell_type": "code",
   "execution_count": null,
   "id": "b4b4ea67",
   "metadata": {},
   "outputs": [],
   "source": [
    "features = siibra.features.get(v1, siibra.features.cellular.LayerwiseBigBrainIntensities)\n",
    "print(\n",
    "    f\"{features[0].modality}\\n\\n\"\n",
    "    f\"{features[0].description}\"\n",
    ")\n",
    "fig = features[0].plot()"
   ]
  },
  {
   "cell_type": "markdown",
   "id": "7f0c1bdc",
   "metadata": {
    "slideshow": {
     "slide_type": "slide"
    }
   },
   "source": [
    "### Gene Expressions from the Allen Atlas \n",
    "\n",
    "`siibra` also implements a live queryto gene expression data from the Allen atlas to extract regional gene expression levels. Gene expressions are linked to atlas regions by coordinates of their probes in MNI space. When called with a brain region, `siibra.features.get` will generate a mask of this region in MNI space to filter the probes. It provides the regional expression levels as tabular data, together with the MNI coordinates."
   ]
  },
  {
   "cell_type": "code",
   "execution_count": null,
   "id": "4aad09b3",
   "metadata": {},
   "outputs": [],
   "source": [
    "features = siibra.features.get(\n",
    "    v1, siibra.features.molecular.GeneExpressions, gene=[\"TAC1\", \"MAOA\", \"GABARAPL2\"]\n",
    ")\n",
    "fig = features[0].plot(title=f'Gene Expressions in {v1}')\n",
    "features[0].data"
   ]
  },
  {
   "cell_type": "markdown",
   "id": "7e0192ee",
   "metadata": {},
   "source": [
    "We can plot the MNI coordinates to localize the measures and verify they are located in V1."
   ]
  },
  {
   "cell_type": "code",
   "execution_count": null,
   "id": "6261be77",
   "metadata": {},
   "outputs": [],
   "source": [
    "from nilearn import plotting\n",
    "mask = v1.get_regional_map(\"mni152\")\n",
    "display = plotting.plot_glass_brain(mask.fetch(), cmap='viridis')\n",
    "locations = features[0].anchor.location\n",
    "display.add_markers(locations.as_list(), marker_size=2) "
   ]
  },
  {
   "cell_type": "markdown",
   "id": "5e5957f0",
   "metadata": {
    "slideshow": {
     "slide_type": "slide"
    }
   },
   "source": [
    "### Connectivity matrices\n",
    "\n",
    "`siibra` provides connectivity matrices with parcellation averaged structural and functional measurments for different subjects of different cohorts. Here we request streamline counts for Julich Brain. Since the datasets comprise hundreds of connectivity matrices for the same cohort and modality, they are grouped into \"compounds\"."
   ]
  },
  {
   "cell_type": "code",
   "execution_count": null,
   "id": "5cae2bd7",
   "metadata": {},
   "outputs": [],
   "source": [
    "features = siibra.features.get(\n",
    "    siibra.parcellations.get('julich 2.9'),\n",
    "    siibra.features.connectivity.StreamlineCounts\n",
    ")"
   ]
  },
  {
   "cell_type": "markdown",
   "id": "345906a7",
   "metadata": {},
   "source": [
    "Let's check the cohort and indices of individual feature elements for the first compound. The elements are indexed by subject id."
   ]
  },
  {
   "cell_type": "code",
   "execution_count": null,
   "id": "a243aa83",
   "metadata": {},
   "outputs": [],
   "source": [
    "print(\n",
    "    f\"{features[0].cohort}\\n\\n\"\n",
    "    \"Indices: \"\n",
    "    f\"{', '.join(features[0].indices)}\"\n",
    ")"
   ]
  },
  {
   "cell_type": "markdown",
   "id": "456679fe",
   "metadata": {},
   "source": [
    "We can retrieve the matrix of a particular subject using the `get_element()` method of the compound. It includes the actual data as a pandas dataframe, with the notable property that the row and column indices are valid region objects for further reference. This implies in particular, that we can directly associate each measure with the corresponding information in the parcellation, and with a mask of a parcellation map."
   ]
  },
  {
   "cell_type": "code",
   "execution_count": null,
   "id": "6b2db85a",
   "metadata": {},
   "outputs": [],
   "source": [
    "sc_hcp_000 = features[0].get_element('000')\n",
    "sc_hcp_000.data"
   ]
  },
  {
   "cell_type": "markdown",
   "id": "ed50d6e3",
   "metadata": {},
   "source": [
    "As an example, we retrieve the centroids in MNI152 space and plot the connnectivity graph in 3D:"
   ]
  },
  {
   "cell_type": "code",
   "execution_count": null,
   "id": "5956a1f3",
   "metadata": {},
   "outputs": [],
   "source": [
    "node_coords = sc_hcp_000.compute_centroids(space='mni152')\n",
    "plotting.view_connectome(\n",
    "    adjacency_matrix=sc_hcp_000.data,\n",
    "    node_coords=node_coords,\n",
    "    edge_threshold=\"99%\",\n",
    "    node_size=3, colorbar=False,\n",
    "    edge_cmap=\"bwr\"\n",
    ")"
   ]
  },
  {
   "cell_type": "code",
   "execution_count": null,
   "id": "08fa9c2e",
   "metadata": {},
   "outputs": [],
   "source": []
  }
 ],
 "metadata": {
  "kernelspec": {
   "display_name": "Python 3 (ipykernel)",
   "language": "python",
   "name": "python3"
  },
  "language_info": {
   "codemirror_mode": {
    "name": "ipython",
    "version": 3
   },
   "file_extension": ".py",
   "mimetype": "text/x-python",
   "name": "python",
   "nbconvert_exporter": "python",
   "pygments_lexer": "ipython3",
   "version": "3.10.13"
  },
  "vscode": {
   "interpreter": {
    "hash": "c6134497cd5410b1b275ebc88f99d14855849379b696eb9e04cff5dd9aa5e77a"
   }
  }
 },
 "nbformat": 4,
 "nbformat_minor": 5
}
