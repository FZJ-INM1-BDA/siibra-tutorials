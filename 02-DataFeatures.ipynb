{
 "cells": [
  {
   "cell_type": "markdown",
   "metadata": {
    "slideshow": {
     "slide_type": "slide"
    }
   },
   "source": [
    "# Extracting multimodal data features\n",
    "\n",
    "`siibra` provides access to data features of different modalities using the `get_features` method, which accepts a feature modality and is sensitive to the selections configured in the atlas (parcellation, region). If not particular selection is made, `get_features` considers all brain regions of the current parcellation."
   ]
  },
  {
   "cell_type": "code",
   "execution_count": null,
   "id": "77d536f1",
   "metadata": {},
   "outputs": [],
   "source": [
    "!pip install siibra siibra-jugex matplotlib nilearn"
   ]
  },
  {
   "cell_type": "code",
   "execution_count": null,
   "metadata": {},
   "outputs": [],
   "source": [
    "import siibra"
   ]
  },
  {
   "cell_type": "markdown",
   "metadata": {},
   "source": [
    "### Prerequisite: Allow  `siibra` to connect to the EBRAINS Knowledge Graph\n",
    "\n",
    "Most of the features linked to atlas regions are curated datasets in the [EBRAINS knowledge graph](https://kg.ebrainseu) (KG). To fetch data from the KG, you need to pass an EBRAINS KG authentication token to siibra. For being able to generate such tokens, you need to follow three steps:\n",
    "\n",
    "1. Register for an EBRAINS account, as described [here](https://ebrains.eu/register).\n",
    "2. Enable API access for your EBRAINS account, as described [here](https://kg.humanbrainproject.eu/develop.html)).\n",
    "3. Generate a token by visiting the [KG authorization endpoint](https://nexus-iam.humanbrainproject.org/v0/oauth2/authorize).\n",
    "\n",
    "Step 1. and 2. need to be performed only once. Step 3 has to be performed every once in a while, since the KG does not (yet) provide persistent tokens. \n",
    "\n",
    "Just copy the token text from the resulting page, and run the next cell to paste it in."
   ]
  },
  {
   "cell_type": "code",
   "execution_count": null,
   "metadata": {},
   "outputs": [],
   "source": [
    "siibra.set_ebrains_token(input('Paste in EBRAINS KG access token: '))"
   ]
  },
  {
   "cell_type": "markdown",
   "metadata": {},
   "source": [
    "### Densities of neurotransmitter receptors\n",
    "\n",
    "Transmitter receptor density fingerprints are linked to brain regions by their name in the EBRAINS Knowledge Graph. Like any data feature, they are accessed using the `get_features` method of the atlas, which makes use of the current selection in the atlas. The `get_features` method knows from the specified data modality that the match is determined from the brain region identified. Receptor densities come as a nicely structured datatype. Amongst other things, they can visualize themselves in a plot.\n",
    "\n",
    "If we don't specify a particular selection, the atlas will return all available receptor density features linked to the parcellation map:"
   ]
  },
  {
   "cell_type": "code",
   "execution_count": null,
   "metadata": {},
   "outputs": [],
   "source": [
    "atlas = siibra.atlases['human']\n",
    "julichbrain = atlas.get_parcellation(\"julich\")\n",
    "for f in siibra.get_features(julichbrain,\"receptor\"):\n",
    "    print(f.matched_region.name, f)"
   ]
  },
  {
   "cell_type": "markdown",
   "metadata": {},
   "source": [
    "If we select a region, the returned list is filtered accordingly. "
   ]
  },
  {
   "cell_type": "code",
   "execution_count": null,
   "metadata": {},
   "outputs": [],
   "source": [
    "import siibra\n",
    "atlas = siibra.atlases['human']\n",
    "v1 = atlas.get_region('v1',parcellation=\"julich 2.9\")\n",
    "r, = siibra.get_features(v1,\"receptor\")\n",
    "fig = r.plot(r.matched_region.name)"
   ]
  },
  {
   "cell_type": "markdown",
   "metadata": {},
   "source": [
    "### Layer-specific cell distributions in cortical regions\n",
    "\n",
    "This version of siibra provides a pre-release preview of layer-specific cell distributions in different areas of BigBrain."
   ]
  },
  {
   "cell_type": "code",
   "execution_count": null,
   "metadata": {},
   "outputs": [],
   "source": [
    "features = siibra.get_features(v1,\"celldistribution\")\n",
    "for index in [0,-1]:\n",
    "    # we plot only the first and last feature here\n",
    "    fig = features[index].plot(features[index].matched_region.name)"
   ]
  },
  {
   "cell_type": "markdown",
   "metadata": {
    "slideshow": {
     "slide_type": "slide"
    }
   },
   "source": [
    "### Gene Expressions from the Allen Atlas \n",
    "\n",
    "The atlas client can make calls to gene expression data from the Allen atlas and evaluate them in the ICBM space to find regional gene expression levels. It also has a list of available gene names for convenient selection. Gene expressions are linked to atlas regions by coordinates of their probes in MNI space. The `get_features` method detects this from the feature modality, and applies the mask of the regions that are currently selected in the atlas to filter the probes. We can visualize these filtered locations."
   ]
  },
  {
   "cell_type": "code",
   "execution_count": null,
   "metadata": {},
   "outputs": [],
   "source": [
    "features = siibra.get_features(v1,\"gene\",gene=\"GABARAPL2\")\n",
    "print(features[0])\n",
    "\n",
    "# plot\n",
    "from nilearn import plotting\n",
    "all_coords = [tuple(g.location) for g in features]\n",
    "mask = v1.build_mask(\"mni152\")\n",
    "display = plotting.plot_roi(mask)\n",
    "display.add_markers(all_coords,marker_size=5) "
   ]
  },
  {
   "cell_type": "markdown",
   "metadata": {
    "slideshow": {
     "slide_type": "slide"
    }
   },
   "source": [
    "### Connectivity matrices\n",
    "For `siibra`, a connectivity matrix is a data feature like the others below, and can be found using the same `get_features` function just by choosing another modality. `siibra` knows from the modality type that this type of data does not match to the selected brain region in the atlas, but to the selected parcellation. Therefore, `get_features` return connectivity datasets that are defined for the selected parcellation. \n",
    "\n",
    "To learn about the nature of the provided connectivity, the `src_info` attribute provides a detailed description of the dataset. "
   ]
  },
  {
   "cell_type": "code",
   "execution_count": null,
   "metadata": {},
   "outputs": [],
   "source": [
    "# Get the first four connectivity matrices available for the parcellation\n",
    "features = siibra.get_features(julichbrain,\"connectivitymatrix\")\n",
    "\n",
    "# format dataset names for use as figure titles\n",
    "from textwrap import wrap\n",
    "titleformat = lambda text : \"\\n\".join(wrap(text.replace('_',' '),20)) \n",
    "\n",
    "# plot the matrices\n",
    "import numpy as np\n",
    "import matplotlib.pyplot as plt\n",
    "%matplotlib inline\n",
    "fig = plt.figure()\n",
    "for i,feature in enumerate(features):\n",
    "    ax = fig.add_subplot(1,len(features),i+1)\n",
    "    ax.imshow(np.log(feature.array),cmap=plt.cm.hot)\n",
    "    ax.set_title(titleformat(feature.name),size=10)\n",
    "fig.show()"
   ]
  },
  {
   "cell_type": "markdown",
   "metadata": {},
   "source": [
    "### Locations of iEEG recordings\n",
    "\n",
    "iEEG data is queried per session/subject. The data is organized into multiple electrodes per session, and multiple contact points per electrode. Iterating over a session yields its electrodes. Iterating over each electrode yields its contact points. Each of these items are themselves of type `SpatialFeature`, so they have a `.location` and can be matched against an atlas. Below, we use this to visualize MNI coordinates of contact points which correspond to electrodes touching the selected region. We highlight the contact points inside the selected atlas region in red."
   ]
  },
  {
   "cell_type": "code",
   "execution_count": null,
   "metadata": {},
   "outputs": [],
   "source": [
    "sessions = siibra.get_features(v1,\"ieeg\")\n",
    "\n",
    "coords = [pt\n",
    "          for session in sessions\n",
    "          for electrode in session\n",
    "          for pt in electrode.location\n",
    "          if electrode.match(v1)]\n",
    "\n",
    "from nilearn import plotting\n",
    "mask = v1.build_mask(\"mni152\")\n",
    "plotting.view_markers(\n",
    "    [tuple(pt) for pt in coords],\n",
    "    [\"red\" if pt.intersects_mask(mask) else \"blue\"\n",
    "    for pt in coords ],\n",
    "    marker_size=3)"
   ]
  },
  {
   "cell_type": "markdown",
   "metadata": {},
   "source": [
    "### Neuron morphologies\n",
    "\n",
    "`siibra` has an interface to the [NeuroMorpho](https://neuromorpho.org) repository of single neuronal cell reconstructions."
   ]
  },
  {
   "cell_type": "code",
   "execution_count": null,
   "metadata": {},
   "outputs": [],
   "source": [
    "import warnings\n",
    "neurons = siibra.get_features(atlas.get_region('ifg'),'morphology')\n",
    "for n in neurons[:2]:\n",
    "    n.plot()"
   ]
  },
  {
   "cell_type": "markdown",
   "metadata": {},
   "source": [
    "### Other regional datasets"
   ]
  },
  {
   "cell_type": "code",
   "execution_count": null,
   "metadata": {},
   "outputs": [],
   "source": [
    "for f in siibra.get_features(v1,\"ebrains\"):\n",
    "    print(f\"{f.name}\\n{f.url}\\n\")"
   ]
  },
  {
   "cell_type": "code",
   "execution_count": null,
   "metadata": {},
   "outputs": [],
   "source": []
  }
 ],
 "metadata": {
  "kernelspec": {
   "display_name": "Python 3",
   "language": "python",
   "name": "python3"
  },
  "language_info": {
   "codemirror_mode": {
    "name": "ipython",
    "version": 3
   },
   "file_extension": ".py",
   "mimetype": "text/x-python",
   "name": "python",
   "nbconvert_exporter": "python",
   "pygments_lexer": "ipython3",
   "version": "3.9.1"
  }
 },
 "nbformat": 4,
 "nbformat_minor": 5
}
