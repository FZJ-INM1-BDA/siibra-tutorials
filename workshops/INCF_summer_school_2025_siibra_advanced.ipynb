{
 "cells": [
  {
   "cell_type": "markdown",
   "metadata": {},
   "source": [
    "## Import the package \n",
    "\n",
    "We start by importing the `siibra` package and other necessary libraries."
   ]
  },
  {
   "cell_type": "code",
   "execution_count": null,
   "metadata": {},
   "outputs": [],
   "source": [
    "import siibra\n",
    "import json\n",
    "import matplotlib.pyplot as plt\n",
    "import numpy as np\n",
    "import pandas as pd\n",
    "from nilearn import plotting, image"
   ]
  },
  {
   "cell_type": "markdown",
   "metadata": {},
   "source": [
    "### Download an \"fMRI\" image"
   ]
  },
  {
   "cell_type": "code",
   "execution_count": null,
   "metadata": {},
   "outputs": [],
   "source": [
    "url = \"https://github.com/FZJ-INM1-BDA/siibra-tutorials/raw/refs/heads/incf_summerschool_2025/workshops/test_fmri.nii.gz\"\n",
    "img = siibra.retrieval.HttpRequest(url).get()\n",
    "img.to_filename(\"./test_fmri.nii.gz\")"
   ]
  },
  {
   "cell_type": "markdown",
   "metadata": {},
   "source": [
    "## I. Integrate your image to siibra for local use"
   ]
  },
  {
   "cell_type": "markdown",
   "metadata": {},
   "source": [
    "### 1. Create json configuration"
   ]
  },
  {
   "cell_type": "code",
   "execution_count": null,
   "metadata": {},
   "outputs": [],
   "source": [
    "fmri_conf = {\n",
    "    \"@type\": \"siibra/feature/voi/v0.1\",\n",
    "    \"name\": \"test fMRI feature\",\n",
    "    \"modality\": \"fMRI\",\n",
    "    \"space\": {\"name\": \"2009c nonlinear asym\"},\n",
    "    \"providers\": {\"nii\": \"./test_fmri.nii.gz\"},\n",
    "}\n",
    "with open(\"./fmri_conf_test.json\", \"wt\") as fp:\n",
    "    json.dump(fmri_conf, fp=fp, indent=\"\\t\")"
   ]
  },
  {
   "cell_type": "markdown",
   "metadata": {},
   "source": [
    "### 2. Read the json configuration to test"
   ]
  },
  {
   "cell_type": "code",
   "execution_count": null,
   "metadata": {},
   "outputs": [],
   "source": [
    "fmri_feat = siibra.from_json(\"./fmri_conf_test.json\")\n",
    "print(fmri_feat.name)\n",
    "print(fmri_feat.modality)"
   ]
  },
  {
   "cell_type": "code",
   "execution_count": null,
   "metadata": {},
   "outputs": [],
   "source": [
    "print(fmri_feat.get_boundingbox())"
   ]
  },
  {
   "cell_type": "code",
   "execution_count": null,
   "metadata": {},
   "outputs": [],
   "source": [
    "img = fmri_feat.fetch()\n",
    "plotting.plot_glass_brain(img, cmap='RdBu', symmetric_cbar=True)"
   ]
  },
  {
   "cell_type": "markdown",
   "metadata": {},
   "source": [
    "### 3. Split input volume into cluster components\n",
    "There are many ways to get components out of a feature map. Here we use siibra to\n",
    "- draw random points from the distribution encoded by the input volume, then\n",
    " cluster them using DBSCAN, and\n",
    "- build clusterwise featuremaps as Kernel Density estimates thereof.\n",
    "\n",
    "(In this example, this more or less inverts the composition of the input volume from\n",
    "the DiFuMo maps, but the idea for a general input image is to separate it into\n",
    "components that have more meaningful correlations with brain regions than the full\n",
    "image, which is usually a mixture distribution.)"
   ]
  },
  {
   "cell_type": "code",
   "execution_count": null,
   "metadata": {},
   "outputs": [],
   "source": [
    "# set random seeed for reproducibility\n",
    "np.random.seed(25)\n",
    "N = 1000  # number of random samples\n",
    "# drawing the samples results in a siibra PointCloud,\n",
    "# which has reference space attached and can model point uncertainties.\n",
    "samples = fmri_feat.draw_samples(N, e=5, sigma_mm=3)\n",
    "\n",
    "# finding the clusters will result in a labelling of the point set.\n",
    "samples.find_clusters(min_fraction=1 / 300, max_fraction=1 / 2)\n",
    "clusterlabels = set(samples.labels) - {-1}\n",
    "\n",
    "# Let's have a look at the clustered pointcloud\n",
    "view = plotting.plot_glass_brain(\n",
    "    fmri_feat.fetch(), alpha=1, threshold=15, cmap=\"RdGy\"\n",
    ")\n",
    "view.add_markers(\n",
    "    np.array(samples.as_list())[samples.labels >= 0],\n",
    "    marker_size=5,\n",
    "    marker_color=[samples.label_colors[lb] for lb in samples.labels if lb >= 0],\n",
    ")"
   ]
  },
  {
   "cell_type": "markdown",
   "metadata": {},
   "source": [
    "### 4. Select cluster and create a volume"
   ]
  },
  {
   "cell_type": "code",
   "execution_count": null,
   "metadata": {},
   "outputs": [],
   "source": [
    "cl = 3\n",
    "clustermap = siibra.volumes.from_pointcloud(samples, label=cl, target=fmri_feat)\n",
    "plotting.plot_glass_brain(\n",
    "    clustermap.fetch(),\n",
    "    alpha=1,\n",
    "    cmap=\"RdBu\",\n",
    "    title=f\"Cluster #{cl}\",\n",
    "    symmetric_cbar=True,\n",
    ")"
   ]
  },
  {
   "cell_type": "markdown",
   "metadata": {},
   "source": [
    "### 5. Query features with the selected cluster"
   ]
  },
  {
   "cell_type": "code",
   "execution_count": null,
   "metadata": {},
   "outputs": [],
   "source": [
    "genes = [\"gabarapl1\", \"gabarapl2\", \"maoa\", \"tac1\"]\n",
    "gene_expressions = siibra.features.get(clustermap, \"gene expressions\", gene=genes)[0]\n",
    "print(\"Found measurements:\", len(gene_expressions.anchor.location))\n",
    "gene_expressions.plot()"
   ]
  },
  {
   "cell_type": "code",
   "execution_count": null,
   "metadata": {},
   "outputs": [],
   "source": [
    "gene_expressions.data"
   ]
  },
  {
   "cell_type": "code",
   "execution_count": null,
   "metadata": {},
   "outputs": [],
   "source": [
    "gene_expressions.plot(by=[\"gene\", \"gender\"])"
   ]
  },
  {
   "cell_type": "markdown",
   "metadata": {},
   "source": [
    "### HANDS ON\n",
    "Query for BigBrain Intensity Profiles and plot the first result"
   ]
  },
  {
   "cell_type": "code",
   "execution_count": null,
   "metadata": {},
   "outputs": [],
   "source": [
    "siibra.features.get(clustermap, siibra.features.cellular.BigBrainIntensityProfile)[0].plot()"
   ]
  },
  {
   "cell_type": "markdown",
   "metadata": {},
   "source": [
    "### HANDS ON\n",
    "Plot one of the profiles"
   ]
  },
  {
   "cell_type": "code",
   "execution_count": null,
   "metadata": {},
   "outputs": [],
   "source": []
  },
  {
   "cell_type": "markdown",
   "metadata": {},
   "source": [
    "### HANDS ON\n",
    "Query for Layerwise BigBrain Intensities and plot the first result"
   ]
  },
  {
   "cell_type": "code",
   "execution_count": null,
   "metadata": {},
   "outputs": [],
   "source": []
  },
  {
   "cell_type": "markdown",
   "metadata": {},
   "source": [
    "### HANDS ON\n",
    "Query for MRI images and extract \"CHENONCEAU: post mortem anatomical UHF MRI - 150um\" high resolution image corresponding to the boundind box of the cluster"
   ]
  },
  {
   "cell_type": "code",
   "execution_count": null,
   "metadata": {},
   "outputs": [],
   "source": []
  },
  {
   "cell_type": "markdown",
   "metadata": {},
   "source": [
    "## II. Assign regions overlapping with the selected cluster\n",
    "To assign the clusters to brain regions, we build feature maps from each cluster\n",
    "and assign them to the Julich-Brain probabilistic maps. The assignment is one-to-many\n",
    "since the structures in the image and parcellation are continuous. Assignments\n",
    "report correlation, intersection over union, and some other measures which we can use\n",
    "to filter and sort them. The result is an assignment table from cluster components\n",
    "in the input volume to regions in the Julich-Brain atlas."
   ]
  },
  {
   "cell_type": "markdown",
   "metadata": {},
   "source": [
    "### 1. Select map to assign"
   ]
  },
  {
   "cell_type": "code",
   "execution_count": null,
   "metadata": {},
   "outputs": [],
   "source": [
    "julich_pmaps = siibra.get_map(\n",
    "    parcellation=\"julich 3.0.3\", space=\"mni152\", maptype=\"statistical\"\n",
    ")"
   ]
  },
  {
   "cell_type": "code",
   "execution_count": null,
   "metadata": {},
   "outputs": [],
   "source": [
    "assignments = julich_pmaps.assign(clustermap, split_components=False)\n",
    "print(\"Intersections found:\", len(assignments))\n",
    "assignments.sort_values(\"map value\", ascending=False).head()"
   ]
  },
  {
   "cell_type": "markdown",
   "metadata": {},
   "source": [
    "### 2. Filter assignments"
   ]
  },
  {
   "cell_type": "code",
   "execution_count": null,
   "metadata": {},
   "outputs": [],
   "source": [
    "min_correlation = 0.2\n",
    "min_map_value = 0.5\n",
    "assignments.query(f\"correlation >= {min_correlation}\", engine=\"python\", inplace=True)\n",
    "assignments"
   ]
  },
  {
   "cell_type": "markdown",
   "metadata": {},
   "source": [
    "### 3. Compare the cluster tp selected region"
   ]
  },
  {
   "cell_type": "code",
   "execution_count": null,
   "metadata": {},
   "outputs": [],
   "source": [
    "selected_region = siibra.get_region(\"julich 3.0.3\", \"Area hOc1 (V1, 17, CalcS) left\")"
   ]
  },
  {
   "cell_type": "code",
   "execution_count": null,
   "metadata": {},
   "outputs": [],
   "source": [
    "display = plotting.plot_glass_brain(\n",
    "    selected_region.get_regional_mask('mni152').fetch()\n",
    ")\n",
    "display.add_overlay(clustermap.fetch(),\n",
    "    alpha=0.5,\n",
    "    cmap=\"jet\",\n",
    ")"
   ]
  },
  {
   "cell_type": "markdown",
   "metadata": {},
   "source": [
    "### HANDS ON\n",
    "Find gene expresssions and compare to the query with the volume"
   ]
  },
  {
   "cell_type": "code",
   "execution_count": null,
   "metadata": {},
   "outputs": [],
   "source": []
  },
  {
   "cell_type": "code",
   "execution_count": null,
   "metadata": {},
   "outputs": [],
   "source": []
  },
  {
   "cell_type": "code",
   "execution_count": null,
   "metadata": {},
   "outputs": [],
   "source": []
  }
 ],
 "metadata": {
  "kernelspec": {
   "display_name": ".venv",
   "language": "python",
   "name": "python3"
  },
  "language_info": {
   "codemirror_mode": {
    "name": "ipython",
    "version": 3
   },
   "file_extension": ".py",
   "mimetype": "text/x-python",
   "name": "python",
   "nbconvert_exporter": "python",
   "pygments_lexer": "ipython3",
   "version": "3.12.7"
  }
 },
 "nbformat": 4,
 "nbformat_minor": 4
}
