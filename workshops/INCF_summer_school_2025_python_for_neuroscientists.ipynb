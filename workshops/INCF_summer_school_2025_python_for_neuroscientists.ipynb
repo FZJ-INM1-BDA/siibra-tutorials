{
 "cells": [
  {
   "cell_type": "markdown",
   "metadata": {},
   "source": [
    "# 🐍 Python Basics - Quick Hands-on Guide\n",
    "\n",
    "Welcome! This notebook introduces core Python concepts with short explanations and code examples. Try modifying and running the code cells to experiment."
   ]
  },
  {
   "cell_type": "markdown",
   "metadata": {},
   "source": [
    "## Install packages"
   ]
  },
  {
   "cell_type": "code",
   "execution_count": null,
   "metadata": {},
   "outputs": [],
   "source": [
    "!pip install matplotlib\n",
    "!pip install nibabel\n",
    "!pip install nilearn\n",
    "!pip install seaborn\n",
    "!pip install pandas"
   ]
  },
  {
   "cell_type": "markdown",
   "metadata": {},
   "source": [
    "## I. Some Python Basics"
   ]
  },
  {
   "cell_type": "markdown",
   "metadata": {},
   "source": [
    "### 1. Variables and Data Types\n",
    "\n",
    "Variables store data. Python automatically infers the type.\n"
   ]
  },
  {
   "cell_type": "code",
   "execution_count": null,
   "metadata": {},
   "outputs": [],
   "source": [
    "# Assigning values\n",
    "name = \"Alice\"\n",
    "age = 25\n",
    "height = 5.9\n",
    "is_student = True\n",
    "\n",
    "# Displaying types\n",
    "print(type(name))\n",
    "print(type(age))\n",
    "print(type(height))\n",
    "print(type(is_student))"
   ]
  },
  {
   "cell_type": "markdown",
   "metadata": {},
   "source": [
    "### 2. Basic Math Operations\n",
    "\n",
    "Python can do arithmetic like a calculator.\n"
   ]
  },
  {
   "cell_type": "code",
   "execution_count": null,
   "metadata": {},
   "outputs": [],
   "source": [
    "a = 10\n",
    "b = 3\n",
    "\n",
    "print(\"Addition:\", a + b)\n",
    "print(\"Subtraction:\", a - b)\n",
    "print(\"Multiplication:\", a * b)\n",
    "print(\"Division:\", a / b)\n",
    "print(\"Floor Division:\", a // b)\n",
    "print(\"Power:\", a ** b)\n",
    "print(\"Modulus:\", a % b)"
   ]
  },
  {
   "cell_type": "markdown",
   "metadata": {},
   "source": [
    "### 3. Strings and Formatting\n",
    "\n",
    "Strings hold text. You can combine and format them easily.\n"
   ]
  },
  {
   "cell_type": "code",
   "execution_count": null,
   "metadata": {},
   "outputs": [],
   "source": [
    "first = \"FAIR\"\n",
    "last = \"Neuroscience\"\n",
    "\n",
    "# Concatenate\n",
    "full = first + \" \" + last\n",
    "print(full)\n",
    "\n",
    "# f-string formatting\n",
    "age = 2025 - 1960\n",
    "print(f\"{last} is approximately {age} years old!\")\n"
   ]
  },
  {
   "cell_type": "markdown",
   "metadata": {},
   "source": [
    "### 4. Lists\n",
    "\n",
    "Lists hold ordered collections of items.\n"
   ]
  },
  {
   "cell_type": "code",
   "execution_count": null,
   "metadata": {},
   "outputs": [],
   "source": [
    "fruits = [\"apple\", \"banana\", \"cherry\"]\n",
    "print(fruits[0])  # Access first item\n",
    "fruits.append(72)  # Add item\n",
    "print(fruits)"
   ]
  },
  {
   "cell_type": "markdown",
   "metadata": {},
   "source": [
    "### 5. Conditions\n",
    "\n",
    "Use if/elif/else to make decisions."
   ]
  },
  {
   "cell_type": "code",
   "execution_count": null,
   "metadata": {},
   "outputs": [],
   "source": [
    "score = 85\n",
    "\n",
    "if score >= 90:\n",
    "    print(\"Excellent!\")\n",
    "elif score >= 70:\n",
    "    print(\"Good job!\")\n",
    "else:\n",
    "    print(\"Keep practicing.\")"
   ]
  },
  {
   "cell_type": "markdown",
   "metadata": {},
   "source": [
    "### 6. Loops\n",
    "\n",
    "Loops help repeat actions."
   ]
  },
  {
   "cell_type": "code",
   "execution_count": null,
   "metadata": {},
   "outputs": [],
   "source": [
    "# For loop\n",
    "for i in range(3):\n",
    "    print(\"Looping:\", i)\n",
    "\n",
    "# While loop\n",
    "n = 0\n",
    "while n < 3:\n",
    "    print(\"While Loop:\", n)\n",
    "    n += 1\n"
   ]
  },
  {
   "cell_type": "markdown",
   "metadata": {},
   "source": [
    "### 7. Functions\n",
    "\n",
    "Functions organize reusable blocks of code.\n"
   ]
  },
  {
   "cell_type": "code",
   "execution_count": null,
   "metadata": {},
   "outputs": [],
   "source": [
    "def greet(name):\n",
    "    return f\"Hello, {name}!\"\n",
    "\n",
    "print(greet(\"Alice\"))\n"
   ]
  },
  {
   "cell_type": "markdown",
   "metadata": {},
   "source": [
    "## II. Loading and plotting your Nifti volume\n",
    "What NiBabel does:\n",
    "\n",
    "Loads imaging data as NumPy arrays.\n",
    "\n",
    "Preserves affine transformations (for spatial orientation).\n",
    "\n",
    "Gives access to header information (e.g., voxel dimensions, TR).\n",
    "\n",
    "Saves modified images back to disk."
   ]
  },
  {
   "cell_type": "code",
   "execution_count": null,
   "metadata": {},
   "outputs": [],
   "source": [
    "import nibabel as nib\n",
    "\n",
    "# Load a NIfTI image\n",
    "img = nib.load(\"./ohbm-2023-example-input.nii.gz\")\n",
    "\n",
    "# Get the image data as a NumPy array\n",
    "data = img.get_fdata()\n",
    "data"
   ]
  },
  {
   "cell_type": "code",
   "execution_count": null,
   "metadata": {},
   "outputs": [],
   "source": [
    "# Check image shape\n",
    "print(\"Shape:\", data.shape)\n",
    "# Get the affine matrix\n",
    "img.affine"
   ]
  },
  {
   "cell_type": "code",
   "execution_count": null,
   "metadata": {},
   "outputs": [],
   "source": [
    "# Save a new image (optional)\n",
    "new_img = nib.Nifti1Image(data, img.affine)\n",
    "nib.save(new_img, 'copy_example.nii.gz')"
   ]
  },
  {
   "cell_type": "code",
   "execution_count": null,
   "metadata": {},
   "outputs": [],
   "source": [
    "# to be explored more in detail later\n",
    "from nilearn import plotting\n",
    "\n",
    "plotting.view_img(img, cmap=\"magma\", symmetric_cmap=False)"
   ]
  },
  {
   "cell_type": "markdown",
   "metadata": {},
   "source": [
    "## III. Numpy\n",
    "\n",
    "What is NumPy?\n",
    "\n",
    "NumPy (Numerical Python) is the core library for efficient numerical computations in Python. It provides:\n",
    "\n",
    "Fast multi-dimensional arrays (ndarray)\n",
    "\n",
    "Mathematical operations on arrays\n",
    "\n",
    "Tools for linear algebra, statistics, random numbers, etc."
   ]
  },
  {
   "cell_type": "markdown",
   "metadata": {},
   "source": [
    "### 1. Create Arrays"
   ]
  },
  {
   "cell_type": "code",
   "execution_count": null,
   "metadata": {},
   "outputs": [],
   "source": [
    "import numpy as np\n",
    "\n",
    "# Create arrays\n",
    "a = np.array([1, 2, 3])\n",
    "b = np.array([[1, 2], [3, 4]])\n",
    "\n",
    "print(\"1D:\", a)\n",
    "print(\"2D:\\n\", b)"
   ]
  },
  {
   "cell_type": "code",
   "execution_count": null,
   "metadata": {},
   "outputs": [],
   "source": [
    "affine"
   ]
  },
  {
   "cell_type": "code",
   "execution_count": null,
   "metadata": {},
   "outputs": [],
   "source": [
    "data"
   ]
  },
  {
   "cell_type": "markdown",
   "metadata": {},
   "source": [
    "### 2. Array Properties"
   ]
  },
  {
   "cell_type": "code",
   "execution_count": null,
   "metadata": {},
   "outputs": [],
   "source": [
    "print(\"Shape:\", data.shape)\n",
    "print(\"Data type:\", data.dtype)\n",
    "print(\"Size:\", data.size)"
   ]
  },
  {
   "cell_type": "markdown",
   "metadata": {},
   "source": [
    "### 3. Operations"
   ]
  },
  {
   "cell_type": "code",
   "execution_count": null,
   "metadata": {},
   "outputs": [],
   "source": [
    "x = np.array([1, 2, 3])\n",
    "y = np.array([4, 5, 6])\n",
    "\n",
    "print(\"Addition:\", x + y)\n",
    "print(\"Element-wise multiply:\", x * y)\n",
    "print(\"Dot product:\", np.dot(x, y))\n"
   ]
  },
  {
   "cell_type": "markdown",
   "metadata": {},
   "source": [
    "### 4. Useful Basic Functions"
   ]
  },
  {
   "cell_type": "code",
   "execution_count": null,
   "metadata": {},
   "outputs": [],
   "source": [
    "arr = np.random.rand(3, 3)\n",
    "\n",
    "print(\"Mean:\", arr.mean())\n",
    "print(\"Sum over axis 0:\", arr.sum(axis=0))\n",
    "print(\"Max value:\", arr.max())\n"
   ]
  },
  {
   "cell_type": "markdown",
   "metadata": {},
   "source": [
    "## IV. Plot using matplotlib\n",
    "What is Matplotlib?\n",
    "\n",
    "Matplotlib is a powerful library for creating static, animated, and interactive plots in Python.\n",
    "\n",
    "The pyplot module is often used like MATLAB's plotting functions."
   ]
  },
  {
   "cell_type": "code",
   "execution_count": null,
   "metadata": {},
   "outputs": [],
   "source": [
    "import matplotlib.pyplot as plt\n",
    "\n",
    "# Create data\n",
    "x = np.linspace(0, 10, 100)\n",
    "y = np.sin(x)\n",
    "\n",
    "# Plot\n",
    "plt.plot(x, y, label='sin(x)')\n",
    "plt.title(\"Simple Line Plot\")\n",
    "plt.xlabel(\"x\")\n",
    "plt.ylabel(\"y\")\n",
    "plt.legend()\n",
    "plt.grid(True)\n",
    "plt.show()\n"
   ]
  },
  {
   "cell_type": "code",
   "execution_count": null,
   "metadata": {},
   "outputs": [],
   "source": [
    "histdata = np.random.randn(1000)\n",
    "plt.hist(histdata, bins=30, color='skyblue', edgecolor='black')\n",
    "plt.title(\"Histogram\")\n",
    "plt.show()\n"
   ]
  },
  {
   "cell_type": "code",
   "execution_count": null,
   "metadata": {},
   "outputs": [],
   "source": [
    "data"
   ]
  },
  {
   "cell_type": "code",
   "execution_count": null,
   "metadata": {},
   "outputs": [],
   "source": [
    "plt.imshow(data[50, :, :], cmap='gray')\n",
    "plt.title(\"Image\")\n",
    "plt.colorbar()"
   ]
  },
  {
   "cell_type": "markdown",
   "metadata": {},
   "source": [
    "## IV. Pandas DataFrame"
   ]
  },
  {
   "cell_type": "markdown",
   "metadata": {},
   "source": [
    "### 1. Load the Dataset"
   ]
  },
  {
   "cell_type": "code",
   "execution_count": null,
   "metadata": {},
   "outputs": [],
   "source": [
    "import seaborn as sns\n",
    "import pandas as pd\n",
    "\n",
    "# Load the penguins dataset\n",
    "penguins = sns.load_dataset(\"penguins\")\n",
    "\n",
    "# Preview the first few rows\n",
    "penguins.head()"
   ]
  },
  {
   "cell_type": "markdown",
   "metadata": {},
   "source": [
    "### 2. Basic Data Exploration"
   ]
  },
  {
   "cell_type": "code",
   "execution_count": null,
   "metadata": {},
   "outputs": [],
   "source": [
    "# Get general info\n",
    "penguins.info()"
   ]
  },
  {
   "cell_type": "code",
   "execution_count": null,
   "metadata": {},
   "outputs": [],
   "source": [
    "# Summary stats for numerical columns\n",
    "penguins.describe()"
   ]
  },
  {
   "cell_type": "code",
   "execution_count": null,
   "metadata": {},
   "outputs": [],
   "source": [
    "# Count missing values\n",
    "penguins.isnull().sum()"
   ]
  },
  {
   "cell_type": "markdown",
   "metadata": {},
   "source": [
    "### 4. Plot Body Mass by Species"
   ]
  },
  {
   "cell_type": "code",
   "execution_count": null,
   "metadata": {},
   "outputs": [],
   "source": [
    "# Group by species and calculate average body mass\n",
    "avg_mass = penguins.groupby(\"species\")[\"body_mass_g\"].mean()\n",
    "avg_mass"
   ]
  },
  {
   "cell_type": "code",
   "execution_count": null,
   "metadata": {},
   "outputs": [],
   "source": [
    "# Plot using matplotlib\n",
    "avg_mass.plot(kind=\"bar\", color=\"skyblue\")\n",
    "plt.title(\"Average Body Mass by Penguin Species\")\n",
    "plt.ylabel(\"Body Mass (g)\")\n",
    "plt.xlabel(\"Species\")\n",
    "plt.grid(True)\n",
    "plt.tight_layout()\n",
    "plt.show()\n"
   ]
  },
  {
   "cell_type": "markdown",
   "metadata": {},
   "source": [
    "### 5. Box Plot by Species"
   ]
  },
  {
   "cell_type": "code",
   "execution_count": null,
   "metadata": {},
   "outputs": [],
   "source": [
    "penguins.plot(kind=\"box\", by=\"species\", figsize=(15,5))"
   ]
  },
  {
   "cell_type": "markdown",
   "metadata": {},
   "source": [
    "### 6. Scatter Plot by Species"
   ]
  },
  {
   "cell_type": "code",
   "execution_count": null,
   "metadata": {},
   "outputs": [],
   "source": [
    "# Drop rows with missing values for clean plotting\n",
    "penguins_clean = penguins.dropna(subset=[\"flipper_length_mm\", \"body_mass_g\"])\n",
    "\n",
    "# Scatter plot: flipper length vs. body mass\n",
    "for species in penguins_clean[\"species\"].unique():\n",
    "    subset = penguins_clean[penguins_clean[\"species\"] == species]\n",
    "    plt.scatter(subset[\"flipper_length_mm\"], subset[\"body_mass_g\"], label=species)\n",
    "\n",
    "plt.xlabel(\"Flipper Length (mm)\")\n",
    "plt.ylabel(\"Body Mass (g)\")\n",
    "plt.title(\"Flipper Length vs Body Mass by Species\")\n",
    "plt.legend()\n",
    "plt.grid(True)\n",
    "plt.tight_layout()\n",
    "plt.show()"
   ]
  },
  {
   "cell_type": "markdown",
   "metadata": {},
   "source": [
    "## V. Nilearn\n",
    "Nilearn is a powerful Python library for statistical analysis and visualization of neuroimaging data, especially for NIfTI, fMRI, and connectivity analyses. We will showcase:\n",
    "- Plotting brain images (e.g., fMRI, anatomical)\n",
    "- Plotting cortical surfaces\n",
    "- Plotting connectomes (brain connectivity matrices)"
   ]
  },
  {
   "cell_type": "markdown",
   "metadata": {},
   "source": [
    "## 1. Loading Nilearn Example Data"
   ]
  },
  {
   "cell_type": "code",
   "execution_count": null,
   "metadata": {},
   "outputs": [],
   "source": [
    "from nilearn import datasets\n",
    "\n",
    "# Anatomical + functional image\n",
    "fmri_data = datasets.fetch_development_fmri(n_subjects=1)\n",
    "mni_anat = datasets.load_mni152_template()\n",
    "func_img = nib.load(fmri_data.func[0])"
   ]
  },
  {
   "cell_type": "markdown",
   "metadata": {},
   "source": [
    "## 2. Plotting NIfTI Images"
   ]
  },
  {
   "cell_type": "code",
   "execution_count": null,
   "metadata": {},
   "outputs": [],
   "source": [
    "from nilearn import plotting\n",
    "\n",
    "# Plot anatomical background\n",
    "plotting.plot_anat(mni_anat, title=\"Anatomical Image\")\n"
   ]
  },
  {
   "cell_type": "code",
   "execution_count": null,
   "metadata": {},
   "outputs": [],
   "source": [
    "# Load functional image (4D)\n",
    "data = datasets.fetch_development_fmri(n_subjects=1)\n",
    "func_4d = data.func[0]\n",
    "\n",
    "# Extract the first 3D volume (e.g., timepoint 0)\n",
    "func_3d = image.index_img(func_4d, 0)\n",
    "\n",
    "# Plot the 3D volume\n",
    "plotting.plot_epi(func_3d, title=\"Single Volume from fMRI\", cmap='magma')\n"
   ]
  },
  {
   "cell_type": "markdown",
   "metadata": {},
   "source": [
    "### 3. Plotting Cortical Surfaces"
   ]
  },
  {
   "cell_type": "code",
   "execution_count": null,
   "metadata": {},
   "outputs": [],
   "source": [
    "# Fetch fsaverage surface mesh\n",
    "fsaverage = datasets.fetch_surf_fsaverage()\n",
    "\n",
    "# Example statistical map on surface\n",
    "motor_task = datasets.fetch_neurovault_motor_task()\n",
    "stat_map_img = motor_task[\"images\"][0]\n",
    "\n",
    "# Project volume to surface (left hemisphere)\n",
    "from nilearn import surface\n",
    "\n",
    "texture = surface.vol_to_surf(stat_map_img, fsaverage.pial_left)\n",
    "\n",
    "# Plot on inflated surface\n",
    "plotting.plot_surf_stat_map(\n",
    "    surf_mesh=fsaverage.infl_left,\n",
    "    stat_map=texture,\n",
    "    hemi='left',\n",
    "    title='Motor activation (left hemisphere)',\n",
    "    colorbar=True\n",
    ")\n"
   ]
  },
  {
   "cell_type": "markdown",
   "metadata": {},
   "source": [
    "### 4. Plotting Connectomes"
   ]
  },
  {
   "cell_type": "code",
   "execution_count": null,
   "metadata": {},
   "outputs": [],
   "source": [
    "from nilearn.connectome import ConnectivityMeasure\n",
    "from nilearn import input_data\n",
    "\n",
    "# Fetch atlas and functional data\n",
    "atlas = datasets.fetch_atlas_aal()\n",
    "labels = atlas.labels\n",
    "atlas_filename = atlas.maps\n",
    "\n",
    "# Extract signals\n",
    "masker = input_data.NiftiLabelsMasker(labels_img=atlas_filename, standardize=True)\n",
    "time_series = masker.fit_transform(func_img)\n",
    "\n",
    "# Compute correlation matrix\n",
    "correlation_measure = ConnectivityMeasure(kind=\"correlation\")\n",
    "correlation_matrix = correlation_measure.fit_transform([time_series])[0]\n",
    "\n",
    "# Zero the diagonal\n",
    "np.fill_diagonal(correlation_matrix, 0)\n",
    "\n",
    "# Get coordinates for plotting\n",
    "coords = plotting.find_parcellation_cut_coords(labels_img=atlas_filename)\n",
    "\n",
    "# Plot connectome\n",
    "plotting.view_connectome(correlation_matrix, coords, title=\"AAL Connectome\")"
   ]
  },
  {
   "cell_type": "code",
   "execution_count": null,
   "metadata": {},
   "outputs": [],
   "source": []
  }
 ],
 "metadata": {
  "kernelspec": {
   "display_name": ".venv",
   "language": "python",
   "name": "python3"
  },
  "language_info": {
   "codemirror_mode": {
    "name": "ipython",
    "version": 3
   },
   "file_extension": ".py",
   "mimetype": "text/x-python",
   "name": "python",
   "nbconvert_exporter": "python",
   "pygments_lexer": "ipython3",
   "version": "3.12.7"
  }
 },
 "nbformat": 4,
 "nbformat_minor": 4
}
