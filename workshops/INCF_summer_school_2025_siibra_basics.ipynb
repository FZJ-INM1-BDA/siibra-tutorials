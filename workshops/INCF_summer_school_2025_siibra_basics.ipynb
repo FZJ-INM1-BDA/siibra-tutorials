{
 "cells": [
  {
   "cell_type": "code",
   "execution_count": null,
   "metadata": {},
   "outputs": [],
   "source": [
    "!pip install -r requirements.txt"
   ]
  },
  {
   "cell_type": "markdown",
   "metadata": {},
   "source": [
    "## Import the package \n",
    "\n",
    "We start by importing the `siibra` package and other necessary libraries."
   ]
  },
  {
   "cell_type": "code",
   "execution_count": null,
   "metadata": {},
   "outputs": [],
   "source": [
    "import siibra\n",
    "from siibra import explorer\n",
    "import matplotlib.pyplot as plt\n",
    "from nilearn import plotting"
   ]
  },
  {
   "cell_type": "markdown",
   "metadata": {},
   "source": [
    "## I. Find and display maps"
   ]
  },
  {
   "cell_type": "markdown",
   "metadata": {},
   "source": [
    "### 1. Browse available parcellations"
   ]
  },
  {
   "cell_type": "code",
   "execution_count": null,
   "metadata": {},
   "outputs": [],
   "source": [
    "siibra.parcellations.dataframe"
   ]
  },
  {
   "cell_type": "code",
   "execution_count": null,
   "metadata": {},
   "outputs": [],
   "source": [
    "for parc in siibra.parcellations:\n",
    "    print(parc.name)"
   ]
  },
  {
   "cell_type": "markdown",
   "metadata": {},
   "source": [
    "### 2. Select Von Economo & Koskinas and display the region hierarchy"
   ]
  },
  {
   "cell_type": "code",
   "execution_count": null,
   "metadata": {},
   "outputs": [],
   "source": [
    "voneconomo = siibra.parcellations[\"von economo\"]\n",
    "voneconomo.name"
   ]
  },
  {
   "cell_type": "code",
   "execution_count": null,
   "metadata": {},
   "outputs": [],
   "source": [
    "voneconomo.render_tree()"
   ]
  },
  {
   "cell_type": "code",
   "execution_count": null,
   "metadata": {},
   "outputs": [],
   "source": [
    "voneconomo.find(\"granularis\")"
   ]
  },
  {
   "cell_type": "code",
   "execution_count": null,
   "metadata": {},
   "outputs": [],
   "source": [
    "voneconomo.LICENSE"
   ]
  },
  {
   "cell_type": "code",
   "execution_count": null,
   "metadata": {},
   "outputs": [],
   "source": [
    "voneconomo.publications"
   ]
  },
  {
   "cell_type": "markdown",
   "metadata": {},
   "source": [
    "### 3. Get the labelled map of von economo koskinas"
   ]
  },
  {
   "cell_type": "code",
   "execution_count": null,
   "metadata": {},
   "outputs": [],
   "source": [
    "voneconomo_map = voneconomo.get_map(\"MNI ICBM 2009c nonlinear asym\")\n",
    "img = voneconomo_map.fetch()\n",
    "print(type(img))"
   ]
  },
  {
   "cell_type": "markdown",
   "metadata": {},
   "source": [
    "### 4. Plot the map on MNI ICBM 2009c nonlinear asym"
   ]
  },
  {
   "cell_type": "code",
   "execution_count": null,
   "metadata": {},
   "outputs": [],
   "source": [
    "plotting.view_img(\n",
    "    img,\n",
    "    cmap=voneconomo_map.get_colormap(),\n",
    "    symmetric_cmap=False,\n",
    "    resampling_interpolation=\"nearest\"\n",
    ")"
   ]
  },
  {
   "cell_type": "markdown",
   "metadata": {},
   "source": [
    "### HANDS ON\n",
    "\n",
    "Get the map of julich brain 3.1 and its map, then plot it. "
   ]
  },
  {
   "cell_type": "code",
   "execution_count": null,
   "metadata": {},
   "outputs": [],
   "source": [
    "# Get julich brain 2.9 parcellation\n"
   ]
  },
  {
   "cell_type": "code",
   "execution_count": null,
   "metadata": {},
   "outputs": [],
   "source": [
    "# Get the corresponding map in the reference space MNI ICBM 2009c nonlinear asym\n"
   ]
  },
  {
   "cell_type": "code",
   "execution_count": null,
   "metadata": {},
   "outputs": [],
   "source": [
    "# Plot the map\n"
   ]
  },
  {
   "cell_type": "markdown",
   "metadata": {},
   "source": [
    "## II. Using siibra-python to characterize motor and language areas in the Julich-Brain cytoarchitectonic atlas "
   ]
  },
  {
   "cell_type": "markdown",
   "metadata": {},
   "source": [
    "### 1. Select Julich-Brain 3.1 parcellation"
   ]
  },
  {
   "cell_type": "code",
   "execution_count": null,
   "metadata": {},
   "outputs": [],
   "source": [
    "# access Julich-Brain in version 3.1\n",
    "julichbrain = siibra.parcellations.get(\"julich brain 3.1\")\n",
    "print(julichbrain.render_tree())"
   ]
  },
  {
   "cell_type": "markdown",
   "metadata": {},
   "source": [
    "### 3. Select precentral gyrus from Julich-Brain"
   ]
  },
  {
   "cell_type": "code",
   "execution_count": null,
   "metadata": {},
   "outputs": [],
   "source": [
    "# select 4p left from julich brain\n",
    "region = julichbrain.get_region(\"precentral gyrus\")\n",
    "print(\"object type:\", type(region))\n",
    "print(\"name:\", region)\n",
    "print(\"parcellation:\", region.parcellation)"
   ]
  },
  {
   "cell_type": "markdown",
   "metadata": {},
   "source": [
    "### HANDS ON: render tree of the \"precentral gyrus\" region"
   ]
  },
  {
   "cell_type": "code",
   "execution_count": null,
   "metadata": {},
   "outputs": [],
   "source": []
  },
  {
   "cell_type": "markdown",
   "metadata": {},
   "source": [
    "### 4. Select two children of precentral gyrus, specifcally 4p left and 44 left"
   ]
  },
  {
   "cell_type": "code",
   "execution_count": null,
   "metadata": {},
   "outputs": [],
   "source": [
    "regions = [\n",
    "    julichbrain.get_region(\"4p left\"),\n",
    "    julichbrain.get_region(\"44 left\")\n",
    "]\n",
    "regions"
   ]
  },
  {
   "cell_type": "markdown",
   "metadata": {},
   "source": [
    "### 5. Plot the probability maps of these regions"
   ]
  },
  {
   "cell_type": "code",
   "execution_count": null,
   "metadata": {},
   "outputs": [],
   "source": [
    "# fetch and display their probability maps\n",
    "for region in regions:\n",
    "    pmap = region.get_regional_map(\n",
    "        space=siibra.spaces[\"MNI ICBM 2009c nonlinear asym\"],\n",
    "        maptype=\"statistical\"\n",
    "    )\n",
    "    plotting.plot_stat_map(pmap.fetch(), title=region.name, cmap=\"magma\")"
   ]
  },
  {
   "cell_type": "markdown",
   "metadata": {},
   "source": [
    "### 6. Get receptor density profiles for one of the regions"
   ]
  },
  {
   "cell_type": "code",
   "execution_count": null,
   "metadata": {},
   "outputs": [],
   "source": [
    "print(regions[0])\n",
    "receptor_profiles = siibra.features.get(regions[0], \"receptor density profile\")[0]\n",
    "print(receptor_profiles.name)\n",
    "print(\"Found profiles are anchored at:\", receptor_profiles.anchor)"
   ]
  },
  {
   "cell_type": "code",
   "execution_count": null,
   "metadata": {},
   "outputs": [],
   "source": [
    "print(receptor_profiles.description)"
   ]
  },
  {
   "cell_type": "code",
   "execution_count": null,
   "metadata": {},
   "outputs": [],
   "source": [
    "for rp in receptor_profiles:\n",
    "    print(rp.name)"
   ]
  },
  {
   "cell_type": "markdown",
   "metadata": {},
   "source": [
    "### 7. Plot GABAB receptor density distributions for both regions"
   ]
  },
  {
   "cell_type": "code",
   "execution_count": null,
   "metadata": {},
   "outputs": [],
   "source": [
    "receptor = \"GABAB\""
   ]
  },
  {
   "cell_type": "code",
   "execution_count": null,
   "metadata": {},
   "outputs": [],
   "source": [
    "for i, region in enumerate(regions):\n",
    "    # query for receptor profiles\n",
    "    receptor_profiles = siibra.features.get(\n",
    "        region, \"receptor density profile\"\n",
    "    )\n",
    "    print(\"number of receptor density profiles found:\", len(receptor_profiles[0]))\n",
    "    # get one with GABAB type and plot it\n",
    "    receptor_profiles[0].get_element(receptor).plot(label=region.name)\n",
    "plt.legend()"
   ]
  },
  {
   "cell_type": "markdown",
   "metadata": {},
   "source": [
    "### HANDS ON: Plot AMPA receptor density distributions for both regions"
   ]
  },
  {
   "cell_type": "code",
   "execution_count": null,
   "metadata": {},
   "outputs": [],
   "source": []
  },
  {
   "cell_type": "markdown",
   "metadata": {},
   "source": [
    "### 8. Run a differential gene expression analysis for the two regions"
   ]
  },
  {
   "cell_type": "code",
   "execution_count": null,
   "metadata": {},
   "outputs": [],
   "source": [
    "# setup and run the analysis\n",
    "genes = ['GABBR1', 'GABBR2']\n",
    "\n",
    "geneexps = {}\n",
    "for region in regions:\n",
    "    geneexps[region] = siibra.features.get(region, \"GeneExpression\", gene=genes)[0]\n",
    "    geneexps[region].plot()"
   ]
  },
  {
   "cell_type": "markdown",
   "metadata": {},
   "source": [
    "### 9. Plot the extracted sample positions of the microarray data"
   ]
  },
  {
   "cell_type": "code",
   "execution_count": null,
   "metadata": {},
   "outputs": [],
   "source": [
    "geneexps[regions[0]].anchor.location"
   ]
  },
  {
   "cell_type": "code",
   "execution_count": null,
   "metadata": {},
   "outputs": [],
   "source": [
    "geneexps[regions[0]].anchor.location.coordinates"
   ]
  },
  {
   "cell_type": "code",
   "execution_count": null,
   "metadata": {},
   "outputs": [],
   "source": [
    "print(geneexps[regions[0]].anchor.location.space)"
   ]
  },
  {
   "cell_type": "code",
   "execution_count": null,
   "metadata": {},
   "outputs": [],
   "source": [
    "for region in regions:\n",
    "    pmap = region.get_regional_map(\n",
    "        siibra.spaces.MNI_152_ICBM_2009C_NONLINEAR_ASYMMETRIC,\n",
    "        siibra.MapType.STATISTICAL\n",
    "    )\n",
    "    display = plotting.plot_glass_brain(pmap.fetch(), cmap=\"viridis\", title=region.name)\n",
    "    display.add_markers(geneexps[region].anchor.location.coordinates, marker_size=5)"
   ]
  },
  {
   "cell_type": "markdown",
   "metadata": {},
   "source": [
    "### 10. Plot the coordinates on BigBrain"
   ]
  },
  {
   "cell_type": "code",
   "execution_count": null,
   "metadata": {},
   "outputs": [],
   "source": [
    "# get BigBrain space\n",
    "bigbrain = siibra.spaces[\"bigbrain\"]"
   ]
  },
  {
   "cell_type": "code",
   "execution_count": null,
   "metadata": {},
   "outputs": [],
   "source": [
    "# warp the points to BigBrain space\n",
    "points_in_mni152 = geneexps[regions[0]].anchor.location\n",
    "points_in_bigbrain = points_in_mni152.warp(bigbrain)\n",
    "print(points_in_bigbrain.space)\n",
    "print(points_in_bigbrain.coordinates)"
   ]
  },
  {
   "cell_type": "markdown",
   "metadata": {},
   "source": [
    "### 11. Plot on BigBrain template"
   ]
  },
  {
   "cell_type": "code",
   "execution_count": null,
   "metadata": {},
   "outputs": [],
   "source": [
    "bigbrain_template = bigbrain.get_template()\n",
    "display = plotting.plot_img(bigbrain_template.fetch(), cmap=\"grey\", cut_coords=points_in_bigbrain.centroid.coordinate)\n",
    "display.add_markers(points_in_bigbrain.coordinates, marker_size=5)"
   ]
  },
  {
   "cell_type": "markdown",
   "metadata": {},
   "source": [
    "## III. Download high-resolution BigBrain chunks"
   ]
  },
  {
   "cell_type": "markdown",
   "metadata": {},
   "source": [
    "### HANDS ON\n",
    "You can query for high resolution sections using the regions as well. In this case, can you query for 4p left?"
   ]
  },
  {
   "cell_type": "code",
   "execution_count": null,
   "metadata": {},
   "outputs": [],
   "source": [
    "# No idea what the modality is? Try:\n",
    "# siibra.features.render_ascii_tree(\"Feature\")"
   ]
  },
  {
   "cell_type": "code",
   "execution_count": null,
   "metadata": {},
   "outputs": [],
   "source": []
  },
  {
   "cell_type": "markdown",
   "metadata": {},
   "source": []
  },
  {
   "cell_type": "markdown",
   "metadata": {},
   "source": [
    "### 1. While we could use the above query, we can also use an explorer link to obtain the volume of interest, aka bounding box"
   ]
  },
  {
   "cell_type": "code",
   "execution_count": null,
   "metadata": {},
   "outputs": [],
   "source": [
    "url = \"https://atlases.ebrains.eu/viewer/#/a:juelich:iav:atlas:v1.0.0:1/t:minds:core:referencespace:v1.0.0:a1655b99-82f1-420f-a3c2-fe80fd4c8588/p:minds:core:parcellationatlas:v1.0.0:94c1125b-b87e-45e4-901c-00daee7f2579-bb/@:0.0.0.-W000.._eCwg.2-FUe3._-s_W.2_evlu..7LIy..BSR0.2_l20~.Qi-0..9I-/vs:v2-ff011b0b\"\n",
    "voi = explorer.decode_url(url).bounding_box\n",
    "print(voi)"
   ]
  },
  {
   "cell_type": "markdown",
   "metadata": {},
   "source": [
    "### 2.  Plot the BigBrain template for the view port of the above url"
   ]
  },
  {
   "cell_type": "code",
   "execution_count": null,
   "metadata": {},
   "outputs": [],
   "source": [
    "chunk = bigbrain_template.fetch(voi=voi, resolution_mm=0.2)\n",
    "plotting.view_img(chunk, bg_img=None, cmap='gray', vmin=0, vmax=255, symmetric_cmap=False)"
   ]
  },
  {
   "cell_type": "markdown",
   "metadata": {},
   "source": [
    "### 3. Zoom in 10 percent and query for sections overlapping with this bounding box"
   ]
  },
  {
   "cell_type": "code",
   "execution_count": null,
   "metadata": {},
   "outputs": [],
   "source": [
    "voi_zoomed = voi.zoom(0.1)\n",
    "sections = siibra.features.get(voi_zoomed, \"CellbodyStainedSection\")\n",
    "for section in sections:\n",
    "    print(section.name)"
   ]
  },
  {
   "cell_type": "markdown",
   "metadata": {},
   "source": [
    "### 4. Fetch and plot chunk of section 1049"
   ]
  },
  {
   "cell_type": "code",
   "execution_count": null,
   "metadata": {},
   "outputs": [],
   "source": [
    "section = sections[2]\n",
    "print(section)"
   ]
  },
  {
   "cell_type": "code",
   "execution_count": null,
   "metadata": {},
   "outputs": [],
   "source": [
    "section_chunk = section.fetch(voi=voi_zoomed.intersection(section), resolution_mm=-1)\n",
    "fig = plt.figure(figsize=(10,10))\n",
    "plotting.plot_img(section_chunk, bg_img=None, cmap='gray', display_mode='y', figure=fig)"
   ]
  },
  {
   "cell_type": "code",
   "execution_count": null,
   "metadata": {},
   "outputs": [],
   "source": []
  }
 ],
 "metadata": {
  "kernelspec": {
   "display_name": ".venv",
   "language": "python",
   "name": "python3"
  },
  "language_info": {
   "codemirror_mode": {
    "name": "ipython",
    "version": 3
   },
   "file_extension": ".py",
   "mimetype": "text/x-python",
   "name": "python",
   "nbconvert_exporter": "python",
   "pygments_lexer": "ipython3",
   "version": "3.12.7"
  }
 },
 "nbformat": 4,
 "nbformat_minor": 4
}
