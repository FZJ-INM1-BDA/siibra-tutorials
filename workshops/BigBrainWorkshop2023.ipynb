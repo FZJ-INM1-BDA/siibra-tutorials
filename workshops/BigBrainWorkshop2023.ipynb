{
 "cells": [
  {
   "cell_type": "markdown",
   "id": "a62e7e53",
   "metadata": {},
   "source": [
    "# BigBrain workshop short tutorial: Retrieving a BigBrain 1 micron patch "
   ]
  },
  {
   "cell_type": "code",
   "execution_count": null,
   "id": "2a2d0855",
   "metadata": {},
   "outputs": [],
   "source": [
    "import siibra\n",
    "from packaging.version import Version\n",
    "assert Version(siibra.__version__) >= Version('1.0a22')"
   ]
  },
  {
   "cell_type": "markdown",
   "id": "2946c8a8",
   "metadata": {},
   "source": [
    "## Step 1: Load a coronal 2D annotation pasted over from siibra-explorer annotation mode"
   ]
  },
  {
   "cell_type": "code",
   "execution_count": null,
   "id": "1d4cf9cb",
   "metadata": {},
   "outputs": [],
   "source": [
    "structure='''{\n",
    "  \"@id\": \"c882cfb9\",\n",
    "  \"@type\": \"tmp/poly\",\n",
    "  \"coordinateSpace\": {\n",
    "    \"@id\": \"minds/core/referencespace/v1.0.0/a1655b99-82f1-420f-a3c2-fe80fd4c8588\"\n",
    "  },\n",
    "  \"coordinates\": [\n",
    "    [\n",
    "      {\n",
    "        \"@id\": \"26a2b847\",\n",
    "        \"@type\": \"https://openminds.ebrains.eu/core/QuantitativeValue\",\n",
    "        \"value\": -35.721144,\n",
    "        \"unit\": {\n",
    "          \"@id\": \"id.link/mm\"\n",
    "        }\n",
    "      },\n",
    "      {\n",
    "        \"@id\": \"d7f76f43\",\n",
    "        \"@type\": \"https://openminds.ebrains.eu/core/QuantitativeValue\",\n",
    "        \"value\": -1.87,\n",
    "        \"unit\": {\n",
    "          \"@id\": \"id.link/mm\"\n",
    "        }\n",
    "      },\n",
    "      {\n",
    "        \"@id\": \"365dfad0\",\n",
    "        \"@type\": \"https://openminds.ebrains.eu/core/QuantitativeValue\",\n",
    "        \"value\": 35.022472,\n",
    "        \"unit\": {\n",
    "          \"@id\": \"id.link/mm\"\n",
    "        }\n",
    "      }\n",
    "    ],\n",
    "    [\n",
    "      {\n",
    "        \"@id\": \"4e160292\",\n",
    "        \"@type\": \"https://openminds.ebrains.eu/core/QuantitativeValue\",\n",
    "        \"value\": -33.692304,\n",
    "        \"unit\": {\n",
    "          \"@id\": \"id.link/mm\"\n",
    "        }\n",
    "      },\n",
    "      {\n",
    "        \"@id\": \"12cb8664\",\n",
    "        \"@type\": \"https://openminds.ebrains.eu/core/QuantitativeValue\",\n",
    "        \"value\": -1.87,\n",
    "        \"unit\": {\n",
    "          \"@id\": \"id.link/mm\"\n",
    "        }\n",
    "      },\n",
    "      {\n",
    "        \"@id\": \"71387d2a\",\n",
    "        \"@type\": \"https://openminds.ebrains.eu/core/QuantitativeValue\",\n",
    "        \"value\": 36.182644,\n",
    "        \"unit\": {\n",
    "          \"@id\": \"id.link/mm\"\n",
    "        }\n",
    "      }\n",
    "    ],\n",
    "    [\n",
    "      {\n",
    "        \"@id\": \"dafcc00b\",\n",
    "        \"@type\": \"https://openminds.ebrains.eu/core/QuantitativeValue\",\n",
    "        \"value\": -32.572944,\n",
    "        \"unit\": {\n",
    "          \"@id\": \"id.link/mm\"\n",
    "        }\n",
    "      },\n",
    "      {\n",
    "        \"@id\": \"5d00aa25\",\n",
    "        \"@type\": \"https://openminds.ebrains.eu/core/QuantitativeValue\",\n",
    "        \"value\": -1.87,\n",
    "        \"unit\": {\n",
    "          \"@id\": \"id.link/mm\"\n",
    "        }\n",
    "      },\n",
    "      {\n",
    "        \"@id\": \"f5aab4e8\",\n",
    "        \"@type\": \"https://openminds.ebrains.eu/core/QuantitativeValue\",\n",
    "        \"value\": 34.328704,\n",
    "        \"unit\": {\n",
    "          \"@id\": \"id.link/mm\"\n",
    "        }\n",
    "      }\n",
    "    ],\n",
    "    [\n",
    "      {\n",
    "        \"@id\": \"389a2439\",\n",
    "        \"@type\": \"https://openminds.ebrains.eu/core/QuantitativeValue\",\n",
    "        \"value\": -35.639524,\n",
    "        \"unit\": {\n",
    "          \"@id\": \"id.link/mm\"\n",
    "        }\n",
    "      },\n",
    "      {\n",
    "        \"@id\": \"74e3ecaa\",\n",
    "        \"@type\": \"https://openminds.ebrains.eu/core/QuantitativeValue\",\n",
    "        \"value\": -1.87,\n",
    "        \"unit\": {\n",
    "          \"@id\": \"id.link/mm\"\n",
    "        }\n",
    "      },\n",
    "      {\n",
    "        \"@id\": \"90fece85\",\n",
    "        \"@type\": \"https://openminds.ebrains.eu/core/QuantitativeValue\",\n",
    "        \"value\": 35.185712,\n",
    "        \"unit\": {\n",
    "          \"@id\": \"id.link/mm\"\n",
    "        }\n",
    "      }\n",
    "    ]\n",
    "  ],\n",
    "  \"closed\": true\n",
    "}'''"
   ]
  },
  {
   "cell_type": "code",
   "execution_count": null,
   "id": "2b2c9af6",
   "metadata": {},
   "outputs": [],
   "source": [
    "# we can directly instantiate a location object from the structure in siibra\n",
    "# the annotation is cast to a siibra .\n",
    "# Note that it has already the proper reference space encoded!\n",
    "points = siibra.from_json(structure)\n",
    "print(points)"
   ]
  },
  {
   "cell_type": "code",
   "execution_count": null,
   "id": "c45ebe7f",
   "metadata": {},
   "outputs": [],
   "source": [
    "# we choose as a region (or volume) of interst the bounding box of the points\n",
    "voi = points.boundingbox\n",
    "print(voi.warp('mni152'))"
   ]
  },
  {
   "cell_type": "markdown",
   "id": "b650432f",
   "metadata": {},
   "source": [
    "## Step 2: Extract a lower resolution surrounding cube from the BigBrain template"
   ]
  },
  {
   "cell_type": "code",
   "execution_count": null,
   "id": "35de465b",
   "metadata": {},
   "outputs": [],
   "source": [
    "# get a cube of BigBrain context centered at this annotation\n",
    "bigbrain = siibra.get_template('bigbrain')\n",
    "cube = bigbrain.fetch(\n",
    "    voi=voi.center.get_enclosing_cube(width_mm=10),\n",
    "    resolution_mm=0.32\n",
    ")"
   ]
  },
  {
   "cell_type": "markdown",
   "id": "bf47db66",
   "metadata": {},
   "source": [
    "## Step 3:  Find the related 1 micron section to extract a 1 micron cortical patch\n",
    "\n",
    "Note that siibra implements a lazy loading strategy. We find the 1 micron sections as data features with a bounding box. Retrieval of actual image data is postponed until we call `fetch` explitly.\n",
    "\n",
    "Here we fetch with a volume of interest defintion (the bounding box of the annotation), which makes fetching the full resolution feasible. \n",
    "\n",
    "With the current siibra version, we fist retrieve all 1 micron sections and intersect explictly.\n",
    "The next siibra version allows to query features directly with the annotation's bounding box."
   ]
  },
  {
   "cell_type": "code",
   "execution_count": null,
   "id": "a62c4953",
   "metadata": {},
   "outputs": [],
   "source": [
    "matched_sections = siibra.features.get(\n",
    "    points, siibra.features.cellular.CellbodyStainedSection\n",
    ")\n",
    "assert len(matched_sections) > 0 "
   ]
  },
  {
   "cell_type": "code",
   "execution_count": null,
   "id": "68d39585",
   "metadata": {},
   "outputs": [],
   "source": [
    "# extract the full resolution patch\n",
    "patch_1mu = matched_sections[0].fetch(voi=voi, resolution_mm=-1)"
   ]
  },
  {
   "cell_type": "markdown",
   "id": "5986434a",
   "metadata": {},
   "source": [
    "### Step 4: Plot the 3D context and 2D patch"
   ]
  },
  {
   "cell_type": "code",
   "execution_count": null,
   "id": "0e93f883",
   "metadata": {},
   "outputs": [],
   "source": [
    "from nilearn import plotting\n",
    "import matplotlib.pyplot as plt\n",
    "%matplotlib notebook"
   ]
  },
  {
   "cell_type": "code",
   "execution_count": null,
   "id": "951b218c",
   "metadata": {},
   "outputs": [],
   "source": [
    "# plot a composite 3D view with nilearn\n",
    "view=plotting.plot_img(cube, cmap='gray', cut_coords=tuple(voi.center), vmin=0, vmax=255)\n",
    "view.add_overlay(patch_1mu, cmap='magma')"
   ]
  },
  {
   "cell_type": "code",
   "execution_count": null,
   "id": "ae470b98",
   "metadata": {},
   "outputs": [],
   "source": [
    "# plot only the 1 micron patch\n",
    "plt.figure()\n",
    "plt.imshow(patch_1mu.get_fdata().squeeze(), cmap='gray')"
   ]
  },
  {
   "cell_type": "code",
   "execution_count": null,
   "id": "f1f8de42",
   "metadata": {},
   "outputs": [],
   "source": []
  }
 ],
 "metadata": {
  "kernelspec": {
   "display_name": "Python 3 (ipykernel)",
   "language": "python",
   "name": "python3"
  },
  "language_info": {
   "codemirror_mode": {
    "name": "ipython",
    "version": 3
   },
   "file_extension": ".py",
   "mimetype": "text/x-python",
   "name": "python",
   "nbconvert_exporter": "python",
   "pygments_lexer": "ipython3",
   "version": "3.9.15"
  }
 },
 "nbformat": 4,
 "nbformat_minor": 5
}
